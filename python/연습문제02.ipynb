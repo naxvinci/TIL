{
 "cells": [
  {
   "cell_type": "code",
   "execution_count": 72,
   "metadata": {},
   "outputs": [
    {
     "ename": "TypeError",
     "evalue": "pop() takes no keyword arguments",
     "output_type": "error",
     "traceback": [
      "\u001b[1;31m---------------------------------------------------------------------------\u001b[0m",
      "\u001b[1;31mTypeError\u001b[0m                                 Traceback (most recent call last)",
      "\u001b[1;32m<ipython-input-72-c23252149667>\u001b[0m in \u001b[0;36m<module>\u001b[1;34m\u001b[0m\n\u001b[0;32m      4\u001b[0m \u001b[1;32mfor\u001b[0m \u001b[0mi\u001b[0m \u001b[1;32min\u001b[0m \u001b[0mreversed\u001b[0m\u001b[1;33m(\u001b[0m\u001b[0mrange\u001b[0m\u001b[1;33m(\u001b[0m \u001b[0mlen\u001b[0m\u001b[1;33m(\u001b[0m\u001b[0mlist1\u001b[0m\u001b[1;33m)\u001b[0m\u001b[1;33m)\u001b[0m\u001b[1;33m)\u001b[0m\u001b[1;33m:\u001b[0m\u001b[1;33m\u001b[0m\u001b[1;33m\u001b[0m\u001b[0m\n\u001b[0;32m      5\u001b[0m     \u001b[1;32mif\u001b[0m \u001b[0mlist1\u001b[0m\u001b[1;33m[\u001b[0m\u001b[0mi\u001b[0m\u001b[1;33m]\u001b[0m \u001b[1;33m%\u001b[0m \u001b[1;36m3\u001b[0m \u001b[1;33m==\u001b[0m \u001b[1;36m0\u001b[0m\u001b[1;33m:\u001b[0m\u001b[1;33m\u001b[0m\u001b[1;33m\u001b[0m\u001b[0m\n\u001b[1;32m----> 6\u001b[1;33m             \u001b[0mlist1\u001b[0m\u001b[1;33m.\u001b[0m\u001b[0mpop\u001b[0m\u001b[1;33m(\u001b[0m\u001b[0mindex\u001b[0m\u001b[1;33m=\u001b[0m\u001b[0mi\u001b[0m\u001b[1;33m)\u001b[0m\u001b[1;33m\u001b[0m\u001b[1;33m\u001b[0m\u001b[0m\n\u001b[0m\u001b[0;32m      7\u001b[0m \u001b[1;33m\u001b[0m\u001b[0m\n\u001b[0;32m      8\u001b[0m \u001b[0mprint\u001b[0m\u001b[1;33m(\u001b[0m\u001b[0mlist1\u001b[0m\u001b[1;33m)\u001b[0m\u001b[1;33m\u001b[0m\u001b[1;33m\u001b[0m\u001b[0m\n",
      "\u001b[1;31mTypeError\u001b[0m: pop() takes no keyword arguments"
     ]
    }
   ],
   "source": [
    "list1 = [10, 20, 30, 40, 50, 60, 70]\n",
    "# 코드 작성\n",
    "result=[]\n",
    "for i in reversed(range( len(list1))):\n",
    "    if list1[i] % 3 == 0:\n",
    "            list1.pop(i)\n",
    "        \n",
    "print(list1)\n",
    "\n",
    "# remove() 함수를 사용하지 말고 pop() 함수를 이용하여 작성"
   ]
  },
  {
   "cell_type": "code",
   "execution_count": 64,
   "metadata": {},
   "outputs": [
    {
     "name": "stdout",
     "output_type": "stream",
     "text": [
      "[10, 20, 40, 50, 70]\n"
     ]
    }
   ],
   "source": [
    "list1 = [10, 20, 30, 40, 50, 60, 70]\n",
    "# 코드 작성\n",
    "result=[]\n",
    "for i in range( len(list1) -1, 0 , -1):\n",
    "    if list1[i] % 3 == 0:\n",
    "            list1.pop(i)\n",
    "        \n",
    "print(list1)\n",
    "\n",
    "# remove() 함수를 사용하지 말고 pop() 함수를 이용하여 작성"
   ]
  },
  {
   "cell_type": "code",
   "execution_count": 71,
   "metadata": {},
   "outputs": [
    {
     "name": "stdout",
     "output_type": "stream",
     "text": [
      "3\n",
      "13\n",
      "23\n",
      "30\n",
      "31\n",
      "32\n",
      "33\n",
      "34\n",
      "35\n",
      "36\n",
      "37\n",
      "38\n",
      "39\n",
      "43\n",
      "53\n",
      "63\n",
      "73\n",
      "83\n",
      "93\n",
      "끝19개\n"
     ]
    }
   ],
   "source": [
    "count = 0\n",
    "# 코드 작성\n",
    "for i in range(1,101):\n",
    "    if '3' in str(i):\n",
    "        print(i)\n",
    "        count += 1\n",
    "print(\"끝\" + str(count) + \"개\")     \n",
    "# 숫자를 문자열로 바꾸기 str(숫자) 함수 이용\n",
    "# 자료의 내부 값 확인 in 연산자 이용"
   ]
  },
  {
   "cell_type": "code",
   "execution_count": 46,
   "metadata": {},
   "outputs": [
    {
     "name": "stdout",
     "output_type": "stream",
     "text": [
      "[17, 34, 51, 68, 85]\n"
     ]
    }
   ],
   "source": [
    "data = list(range(1,101))\n",
    "result = [ x for x in data if x % 17 == 0 ]\n",
    "print(result)"
   ]
  },
  {
   "cell_type": "code",
   "execution_count": 43,
   "metadata": {},
   "outputs": [
    {
     "name": "stdout",
     "output_type": "stream",
     "text": [
      "10 8 6 4 2 "
     ]
    }
   ],
   "source": [
    "for i in range(10, 0, -2):\n",
    "    print(i, end=' ')"
   ]
  },
  {
   "cell_type": "code",
   "execution_count": 42,
   "metadata": {},
   "outputs": [
    {
     "name": "stdout",
     "output_type": "stream",
     "text": [
      "0 1 2 3 4 5 6 7 8 9 "
     ]
    }
   ],
   "source": [
    "for i in range(10):\n",
    "    print(i, end=' ')"
   ]
  },
  {
   "cell_type": "code",
   "execution_count": 41,
   "metadata": {},
   "outputs": [
    {
     "name": "stdout",
     "output_type": "stream",
     "text": [
      "0 2 4 6 8 "
     ]
    }
   ],
   "source": [
    "for i in range(0, 10 ,2):\n",
    "    print(i, end=' ')"
   ]
  },
  {
   "cell_type": "code",
   "execution_count": 36,
   "metadata": {},
   "outputs": [
    {
     "name": "stdout",
     "output_type": "stream",
     "text": [
      "    *\n",
      "   **\n",
      "  ***\n",
      " ****\n",
      "*****\n"
     ]
    }
   ],
   "source": [
    "i = 1 # '*' 개수\n",
    "space = 4 # 여백의 크기\n",
    "# 코드 작성\n",
    "while i != 6:\n",
    "    print(' ' *space  +'*'* i)\n",
    "    i += 1\n",
    "    space -=1\n",
    "    \n",
    "\n",
    "# print() 후 줄바꿈 하지 않음 → print('내용', end='')\n",
    "# 문자열 * 숫자 기능 이용"
   ]
  },
  {
   "cell_type": "code",
   "execution_count": 32,
   "metadata": {},
   "outputs": [
    {
     "name": "stdout",
     "output_type": "stream",
     "text": [
      "*\n",
      "**\n",
      "***\n",
      "****\n",
      "*****\n"
     ]
    }
   ],
   "source": [
    "i = 1 # '*' 개수\n",
    "# 코드 작성\n",
    "while i != 6:\n",
    "    print('*'* i)\n",
    "    i += 1\n",
    "\n",
    "# 문자열 * 숫자 기능 이용\n"
   ]
  },
  {
   "cell_type": "code",
   "execution_count": 29,
   "metadata": {},
   "outputs": [
    {
     "name": "stdout",
     "output_type": "stream",
     "text": [
      "[2, 35, 16, 42, 34, 3]\n"
     ]
    }
   ],
   "source": [
    "import random\n",
    "lottoList = list() # 빈 List 생성\n",
    "# 코드 작성\n",
    "while len(lottoList) != 6:\n",
    "#     lottoList.append(random.randint(1, 45))\n",
    "    lottoList.add(random.randint(1, 45))\n",
    "    \n",
    "\n",
    "# 반복문 조건으로 len() 함수 이용\n",
    "# random.randint(1, 45) 함수 이용\n",
    "# 번호 생성 후 lottoList에 append\n",
    "print(lottoList)"
   ]
  },
  {
   "cell_type": "code",
   "execution_count": 35,
   "metadata": {},
   "outputs": [
    {
     "name": "stdout",
     "output_type": "stream",
     "text": [
      "5 / 4\n",
      "5 / 2\n",
      "6 / 1\n",
      "6 / 1\n",
      "1 / 3\n",
      "3 / 4\n",
      "4 / 6\n",
      "1 / 2\n",
      "4 / 6\n",
      "5 / 1\n",
      "3 / 1\n",
      "1 / 6\n",
      "3 / 5\n",
      "1 / 6\n",
      "4 / 5\n",
      "4 / 4\n",
      "두 눈이 같으므로 종료\n"
     ]
    }
   ],
   "source": [
    "import random # random 모듈 import\n",
    "# 코드 작성\n",
    "while True:\n",
    "    num1 = random.randint(1,6)\n",
    "    num2 = random.randint(1,6)\n",
    "    print('%d / %d' % (num1, num2) ) #formatting\n",
    "    if num1 == num2: break\n",
    "print('두 눈이 같으므로 종료')\n",
    "\n",
    "# random.randint(1, 6) 함수 이용\n",
    "# 두 눈이 같을 때 break\n"
   ]
  },
  {
   "cell_type": "code",
   "execution_count": 24,
   "metadata": {},
   "outputs": [
    {
     "name": "stdout",
     "output_type": "stream",
     "text": [
      "359\n"
     ]
    }
   ],
   "source": [
    "studentInfo = {\n",
    " 'a':33, 'b':55, 'c':67, 'd':82, 'e':45,\n",
    " 'f':33, 'g':90, 'h':87, 'i': 100, 'j':25\n",
    "}\n",
    "total = 0\n",
    "# 코드 작성 - Dictionary values(), List pop() 등 이용\n",
    "list_info = list(studentInfo.values())\n",
    "while list_info:\n",
    "    if list_info[-1] >= 80:\n",
    "        total += list_info[-1]\n",
    "    list_info.pop()\n",
    "\n",
    "print(total)"
   ]
  },
  {
   "cell_type": "code",
   "execution_count": 37,
   "metadata": {},
   "outputs": [
    {
     "name": "stdout",
     "output_type": "stream",
     "text": [
      "481\n"
     ]
    }
   ],
   "source": [
    "scoreList = [20, 55, 67, 82, 45, 33, 90, 87, 100, 25]\n",
    "total = 0\n",
    "# 코드 작성 - List pop() 함수 이용\n",
    "# while scoreList:\n",
    "#     if scoreList[-1] >= 50:\n",
    "#         total += scoreList[-1]\n",
    "#     scoreList.pop()\n",
    "    \n",
    "while scoreList:\n",
    "    i = scoreList.pop()\n",
    "    if i >= 50:\n",
    "        total += i\n",
    "    \n",
    "print(total)\n"
   ]
  },
  {
   "cell_type": "code",
   "execution_count": 17,
   "metadata": {},
   "outputs": [
    {
     "name": "stdout",
     "output_type": "stream",
     "text": [
      "166833\n"
     ]
    }
   ],
   "source": [
    "num = 1\n",
    "total = 0\n",
    "# 코드 작성\n",
    "while num <= 1000:\n",
    "    if num % 3 == 0:\n",
    "        total += num\n",
    "    num += 1\n",
    "\n",
    "print(total)"
   ]
  },
  {
   "cell_type": "code",
   "execution_count": 12,
   "metadata": {},
   "outputs": [
    {
     "name": "stdout",
     "output_type": "stream",
     "text": [
      "3\n",
      "3\n",
      "2\n"
     ]
    }
   ],
   "source": [
    "import random\n",
    "\n",
    "while True:\n",
    "    num = random.randint(1,3)\n",
    "    print('%d' % num)\n",
    "    if num == 2: break"
   ]
  },
  {
   "cell_type": "code",
   "execution_count": 9,
   "metadata": {},
   "outputs": [
    {
     "name": "stdout",
     "output_type": "stream",
     "text": [
      "1번 반복\n",
      "2번 반복\n",
      "3번 반복\n",
      "4번 반복\n",
      "5번 반복\n",
      "6번 반복\n",
      "7번 반복\n",
      "8번 반복\n",
      "9번 반복\n",
      "10번 반복\n",
      "10번 반복 후 종료\n"
     ]
    }
   ],
   "source": [
    "count = 0\n",
    "while count < 10:\n",
    " count = count + 1\n",
    " print('%d번 반복' % count)\n",
    "print('%d번 반복 후 종료' % count)\n"
   ]
  },
  {
   "cell_type": "code",
   "execution_count": 6,
   "metadata": {},
   "outputs": [
    {
     "name": "stdout",
     "output_type": "stream",
     "text": [
      "짝수\n"
     ]
    }
   ],
   "source": [
    "num = 122\n",
    "# 코드 작성, % 연산자\n",
    "if num % 2 == 0:\n",
    "    print('짝수')\n",
    "else:\n",
    "    print('홀수')"
   ]
  },
  {
   "cell_type": "code",
   "execution_count": 4,
   "metadata": {},
   "outputs": [
    {
     "name": "stdout",
     "output_type": "stream",
     "text": [
      "이수완료\n"
     ]
    }
   ],
   "source": [
    "subject = {'자료구조' : 80, '알고리즘' : 60, '네트워크' : 90}\n",
    "# 코드 작성\n",
    "\n",
    "if '자료구조' in subject:\n",
    "    s = subject['자료구조']\n",
    "    if s >= 60:\n",
    "        print('이수완료')"
   ]
  },
  {
   "cell_type": "code",
   "execution_count": 5,
   "metadata": {},
   "outputs": [
    {
     "name": "stdout",
     "output_type": "stream",
     "text": [
      "졸업\n"
     ]
    }
   ],
   "source": [
    "subjectList = ['운영체제', '데이터베이스', '객체지향언어'] # 수강한 과목 리스트\n",
    "average = 60 # 평점\n",
    "\n",
    "if len(subjectList) >= 3 and average >= 70:\n",
    "    print('학위취득')\n",
    "elif len(subjectList) >=3 or average < 70:\n",
    "    print('졸업')\n",
    "else: \n",
    "    print('재수강')\n",
    "\n",
    "# 코드 작성\n",
    "# 리스트 요소의 개수를 확인할 때 len() 함수 사용, ex) len(subjectList)"
   ]
  },
  {
   "cell_type": "code",
   "execution_count": null,
   "metadata": {},
   "outputs": [],
   "source": []
  }
 ],
 "metadata": {
  "kernelspec": {
   "display_name": "Python 3",
   "language": "python",
   "name": "python3"
  },
  "language_info": {
   "codemirror_mode": {
    "name": "ipython",
    "version": 3
   },
   "file_extension": ".py",
   "mimetype": "text/x-python",
   "name": "python",
   "nbconvert_exporter": "python",
   "pygments_lexer": "ipython3",
   "version": "3.7.4"
  }
 },
 "nbformat": 4,
 "nbformat_minor": 2
}
