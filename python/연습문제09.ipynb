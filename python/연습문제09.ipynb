{
 "cells": [
  {
   "cell_type": "code",
   "execution_count": null,
   "metadata": {},
   "outputs": [],
   "source": []
  },
  {
   "cell_type": "code",
   "execution_count": null,
   "metadata": {},
   "outputs": [],
   "source": []
  },
  {
   "cell_type": "markdown",
   "metadata": {},
   "source": [
    "### 영어와 숫자로만 구성되어 있는지 확인하는 정규식 만들기"
   ]
  },
  {
   "cell_type": "code",
   "execution_count": 48,
   "metadata": {},
   "outputs": [
    {
     "name": "stdout",
     "output_type": "stream",
     "text": [
      "<re.Match object; span=(0, 8), match='abcd1234'>\n"
     ]
    }
   ],
   "source": [
    "import re\n",
    "text = 'abcd1234'\n",
    "regex = '^[a-zA-Z0-9]+$'\n",
    "pattern = re.compile(regex)\n",
    "res = pattern.match(text)\n",
    "print(res)"
   ]
  },
  {
   "cell_type": "markdown",
   "metadata": {},
   "source": [
    "### 숫자 2자리 + 영어 소문자 2자리 + 숫자 4자리로 구성되었는지 확인하는 정규식 만들기"
   ]
  },
  {
   "cell_type": "code",
   "execution_count": 34,
   "metadata": {},
   "outputs": [
    {
     "name": "stdout",
     "output_type": "stream",
     "text": [
      "<re.Match object; span=(0, 8), match='12ab1234'>\n"
     ]
    }
   ],
   "source": [
    "import re\n",
    "text = '12ab1234'\n",
    "regex = '\\d{2}[a-z]{2}[0-9]{4}'\n",
    "pattern = re.compile(regex)\n",
    "res = pattern.match(text)\n",
    "print(res)"
   ]
  },
  {
   "cell_type": "markdown",
   "metadata": {},
   "source": [
    "###  문자열의 내용 중 이름과 전화번호를 찾아내는 정규식 만들기"
   ]
  },
  {
   "cell_type": "code",
   "execution_count": 30,
   "metadata": {},
   "outputs": [
    {
     "name": "stdout",
     "output_type": "stream",
     "text": [
      "꼬렙\n",
      "1234\n"
     ]
    }
   ],
   "source": [
    "import re\n",
    "text = '이름:꼬렙, 전화번호:1234'\n",
    "regex = '^이름:(\\w+), 전화번호:(\\d+)$'\n",
    "pattern = re.compile(regex)\n",
    "res = pattern.match(text)\n",
    "print(res.group(1))\n",
    "print(res.group(2))"
   ]
  },
  {
   "cell_type": "markdown",
   "metadata": {},
   "source": [
    "### 문자열의 내용이 특정 형식에 맞는지 확인하는 정규식 만들기"
   ]
  },
  {
   "cell_type": "code",
   "execution_count": 20,
   "metadata": {},
   "outputs": [
    {
     "name": "stdout",
     "output_type": "stream",
     "text": [
      "<re.Match object; span=(0, 41), match='안녕하세요. 저는 OOO에서 태어났고... 열심히 하겠습니다. 감사합니다.'>\n"
     ]
    }
   ],
   "source": [
    "import re\n",
    "text = '안녕하세요. 저는 OOO에서 태어났고... 열심히 하겠습니다. 감사합니다.'\n",
    "regex = '^안녕하세요.*열심히.*감사합니다[.]$'\n",
    "pattern = re.compile(regex)\n",
    "res = pattern.match(text)\n",
    "print(res)\n",
    "\n",
    "# '안녕하세요' 라는 문자열로 시작\n",
    "#내용 중 '열심히' 라는 문자열 반드시 포함\n",
    "#'감사합니다.' 라는 문자열로 종료"
   ]
  },
  {
   "cell_type": "markdown",
   "metadata": {},
   "source": [
    "### () 로 그룹 만들기"
   ]
  },
  {
   "cell_type": "code",
   "execution_count": 1,
   "metadata": {},
   "outputs": [
    {
     "name": "stdout",
     "output_type": "stream",
     "text": [
      "<re.Match object; span=(0, 14), match='791111-1234567'>\n",
      "1234567\n"
     ]
    }
   ],
   "source": [
    "import re\n",
    "text = '791111-1234567'\n",
    "regex = '[0-9]{6}-([1-4]{1}\\d{6}$)'\n",
    "pattern = re.compile(regex)\n",
    "res = pattern.match(text)\n",
    "print(res)\n",
    "print(res.group(1))\n",
    "\n",
    "#앞자리 숫자 6개 / 뒷자리 숫자 7개 [0-9]{6}-\\d{7}\n",
    "#뒷자리의 시작 숫자는 1 ~ 4"
   ]
  },
  {
   "cell_type": "markdown",
   "metadata": {},
   "source": [
    "### 은행계좌번호 출력"
   ]
  },
  {
   "cell_type": "code",
   "execution_count": 9,
   "metadata": {},
   "outputs": [
    {
     "name": "stdout",
     "output_type": "stream",
     "text": [
      "<re.Match object; span=(0, 13), match='123-12-123456'>\n"
     ]
    }
   ],
   "source": [
    "import re\n",
    "text = '123-12-123456'\n",
    "regex = '1\\d{2}-1\\d{1}-\\d{6}'\n",
    "pattern = re.compile(regex)\n",
    "res = pattern.match(text)\n",
    "print(res)\n",
    "\n",
    "#숫자 3자리-숫자 2자리-숫자 6자리\n",
    "#첫번째 3자리 숫자의 시작은 반드시 1\n",
    "#두번째 2자리 숫자의 시작은 반드시 1"
   ]
  },
  {
   "cell_type": "markdown",
   "metadata": {},
   "source": [
    "### 주민등록번호 출력"
   ]
  },
  {
   "cell_type": "code",
   "execution_count": 3,
   "metadata": {},
   "outputs": [
    {
     "name": "stdout",
     "output_type": "stream",
     "text": [
      "<re.Match object; span=(0, 14), match='791111-1234567'>\n"
     ]
    }
   ],
   "source": [
    "import re\n",
    "text = '791111-1234567'\n",
    "regex = '[0-9]{6}-[1-4]{1}\\d{6}$'\n",
    "pattern = re.compile(regex)\n",
    "res = pattern.match(text)\n",
    "print(res)\n",
    "\n",
    "#앞자리 숫자 6개 / 뒷자리 숫자 7개 [0-9]{6}-\\d{7}\n",
    "#뒷자리의 시작 숫자는 1 ~ 4"
   ]
  },
  {
   "cell_type": "code",
   "execution_count": 10,
   "metadata": {},
   "outputs": [
    {
     "name": "stdout",
     "output_type": "stream",
     "text": [
      "<re.Match object; span=(0, 1), match='a'>\n"
     ]
    }
   ],
   "source": [
    "import re # 정규 표현식 사용을 위한 모듈 import\n",
    "pattern = re.compile('[a]')\n",
    "print(pattern.match('a'))"
   ]
  }
 ],
 "metadata": {
  "kernelspec": {
   "display_name": "Python 3",
   "language": "python",
   "name": "python3"
  },
  "language_info": {
   "codemirror_mode": {
    "name": "ipython",
    "version": 3
   },
   "file_extension": ".py",
   "mimetype": "text/x-python",
   "name": "python",
   "nbconvert_exporter": "python",
   "pygments_lexer": "ipython3",
   "version": "3.7.4"
  }
 },
 "nbformat": 4,
 "nbformat_minor": 2
}
