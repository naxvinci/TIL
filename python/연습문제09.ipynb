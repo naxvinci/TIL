{
 "cells": [
  {
   "cell_type": "code",
   "execution_count": null,
   "metadata": {},
   "outputs": [],
   "source": []
  },
  {
   "cell_type": "markdown",
   "metadata": {},
   "source": [
    "### requests 함께 활용하여 로또 번호 가져오기"
   ]
  },
  {
   "cell_type": "code",
   "execution_count": 74,
   "metadata": {},
   "outputs": [],
   "source": [
    "import requests\n",
    "result = requests.get('https://dhlottery.co.kr/gameResult.do?method=byWin&drwNo=893')\n",
    "result.encoding=None"
   ]
  },
  {
   "cell_type": "code",
   "execution_count": 75,
   "metadata": {},
   "outputs": [
    {
     "data": {
      "text/plain": [
       "['1', '15', '17', '23', '25', '41', '10']"
      ]
     },
     "execution_count": 75,
     "metadata": {},
     "output_type": "execute_result"
    }
   ],
   "source": [
    "import re\n",
    "pat = re.compile('lrg\\s+ball.+>(\\d+)</span>')\n",
    "pat.findall(result.text)"
   ]
  },
  {
   "cell_type": "markdown",
   "metadata": {},
   "source": [
    " ### 이메일의 도메인 앞부분 마킹 처리( 문자열 바꾸기 sub() 활용)"
   ]
  },
  {
   "cell_type": "code",
   "execution_count": 71,
   "metadata": {},
   "outputs": [
    {
     "name": "stdout",
     "output_type": "stream",
     "text": [
      "ggoreb@*****.com\n",
      "seorab@*****.com\n",
      "human@*****.com\n"
     ]
    }
   ],
   "source": [
    "import re\n",
    "user_list = ['ggoreb@naver.com', 'seorab@gmail.com', 'human@ggoreb.com']\n",
    "regex = '(\\w+@)\\w+([.]com)'\n",
    "pattern = re.compile(regex)\n",
    "change = '\\g<1>*****\\g<2>'\n",
    "for user in user_list:\n",
    "    res = pattern.sub(change, user)\n",
    "    print(res)"
   ]
  },
  {
   "cell_type": "markdown",
   "metadata": {},
   "source": [
    "### 전화번호 중 중간자리 숫자 마킹 처리"
   ]
  },
  {
   "cell_type": "code",
   "execution_count": 72,
   "metadata": {},
   "outputs": [
    {
     "name": "stdout",
     "output_type": "stream",
     "text": [
      "010-****-8181\n"
     ]
    }
   ],
   "source": [
    "import re\n",
    "text = '010-8478-8181'\n",
    "regex = '([0-9]{3})-\\d{3,4}-([0-9]{4})'\n",
    "pattern = re.compile(regex)\n",
    "change = '\\g<1>-****-\\g<2>'\n",
    "res = pattern.sub(change, text)\n",
    "print(res)"
   ]
  },
  {
   "cell_type": "markdown",
   "metadata": {},
   "source": [
    "### com과 net으로 끝나는 이메일 주소를 찾는 정규식 만들기(finditer())"
   ]
  },
  {
   "cell_type": "code",
   "execution_count": 60,
   "metadata": {},
   "outputs": [
    {
     "name": "stdout",
     "output_type": "stream",
     "text": [
      "a@ggoreb.com\n",
      "c@ggoreb.net\n"
     ]
    }
   ],
   "source": [
    "import re\n",
    "text = '''주로 사용하는 이메일 주소는 a@ggoreb.com 이고,\n",
    "가끔 사용하는 이메일 주소는 b@ggoreb.info 입니다.\n",
    "이번에 새로 만든 c@ggoreb.net도 있습니다.'''\n",
    "regex = '\\w+@\\w+[.](com|net)'\n",
    "pattern = re.compile(regex)\n",
    "it = pattern.finditer(text)\n",
    "for i in it:\n",
    "    print(i.group())"
   ]
  },
  {
   "cell_type": "markdown",
   "metadata": {},
   "source": [
    "### findall() 과 finditer()"
   ]
  },
  {
   "cell_type": "code",
   "execution_count": 62,
   "metadata": {},
   "outputs": [
    {
     "name": "stdout",
     "output_type": "stream",
     "text": [
      "a@a.com\n",
      "c@c.net\n"
     ]
    }
   ],
   "source": [
    "import re\n",
    "text = '1번 a@a.com 2번 b@b.org 3번 c@c.net'\n",
    "regex = '\\w+@\\w+[.](com|net)' # 괄호로 감싸진 녀석들에 한해서 or 연산을 한다는 의미 (finditer()에서만 적용)\n",
    "pattern = re.compile(regex)\n",
    "it = pattern.finditer(text)\n",
    "for i in it:\n",
    "    print(i.group())"
   ]
  },
  {
   "cell_type": "code",
   "execution_count": 63,
   "metadata": {},
   "outputs": [
    {
     "name": "stdout",
     "output_type": "stream",
     "text": [
      "com\n",
      "net\n"
     ]
    }
   ],
   "source": [
    "import re\n",
    "text = '1번 a@a.com 2번 b@b.org 3번 c@c.net'\n",
    "regex = '\\w+@\\w+[.](com|net)' # 괄호로 감싸진 녀석들이 그룹이 되어 findall()에 의해 출력이 되어버린다\n",
    "pattern = re.compile(regex)\n",
    "res = pattern.findall(text)\n",
    "for it in res:\n",
    "    print(it)"
   ]
  },
  {
   "cell_type": "code",
   "execution_count": 69,
   "metadata": {},
   "outputs": [
    {
     "name": "stdout",
     "output_type": "stream",
     "text": [
      "a@a.com\n",
      "b@b.org\n",
      "c@c.net\n"
     ]
    }
   ],
   "source": [
    "import re\n",
    "text = '1번 a@a.com 2번 b@b.org 3번 c@c.net'\n",
    "regex = '\\w+@\\w+[.][a-z]+'\n",
    "pattern = re.compile(regex)\n",
    "res = pattern.findall(text)\n",
    "for it in res:\n",
    "    if it[-3:-1] == 'com' or 'net':\n",
    "        print(it)"
   ]
  },
  {
   "cell_type": "markdown",
   "metadata": {},
   "source": [
    "### 여러 기호를 제외하고 검색어만 확인하는 정규식 만들기(findall(), \\s*)"
   ]
  },
  {
   "cell_type": "code",
   "execution_count": 57,
   "metadata": {},
   "outputs": [
    {
     "name": "stdout",
     "output_type": "stream",
     "text": [
      "['서울', '강남']\n"
     ]
    }
   ],
   "source": [
    "import re\n",
    "text = '#서울,    #강남,    입력'\n",
    "regex = '#(\\w+),*\\s*'\n",
    "pattern = re.compile(regex)\n",
    "res = pattern.findall(text)\n",
    "print(res)\n",
    "# 검색어는 #기호 다음부터 시작\n",
    "# 여러 개의 검색어가 입력될 때는 comma(,)와 공백으로 구분\n",
    "# 검색어 구분자 중 공백은 한개 이상이 입력될 수 있음"
   ]
  },
  {
   "cell_type": "markdown",
   "metadata": {},
   "source": [
    "### 문자열 중 전화번호 확인하는 정규식 만들기"
   ]
  },
  {
   "cell_type": "code",
   "execution_count": 1,
   "metadata": {},
   "outputs": [
    {
     "name": "stdout",
     "output_type": "stream",
     "text": [
      "051-1234-5678\n"
     ]
    }
   ],
   "source": [
    "import re\n",
    "text = '대표자 : 꼬렙 사업자등록번호 : 100-99-23242324 대표전화 : 051-1234-5678'\n",
    "regex = '[0-9]{2,3}-[0-9]{4}-[0-9]{4}'\n",
    "pattern = re.compile(regex)\n",
    "res = pattern.search(text)\n",
    "print(res.group())\n",
    "# 숫자 2~3자리-숫자4자리-숫자4자리"
   ]
  },
  {
   "cell_type": "markdown",
   "metadata": {},
   "source": [
    "### 문자열 중 사업자등록번호만 확인하는 정규식 만들기(search())"
   ]
  },
  {
   "cell_type": "code",
   "execution_count": 49,
   "metadata": {},
   "outputs": [
    {
     "name": "stdout",
     "output_type": "stream",
     "text": [
      "<re.Match object; span=(19, 34), match='100-99-23242324'>\n"
     ]
    }
   ],
   "source": [
    "import re\n",
    "text = '대표자 : 꼬렙 사업자등록번호 : 100-99-23242324 대표전화 : 051-1234-5678'\n",
    "regex = '[0-9]{3}-[0-9]{2}-[0-9]{8}'\n",
    "pattern = re.compile(regex) # 숫자 3자리-숫자 2자리-숫자8자리 search\n",
    "res = pattern.search(text)\n",
    "print(res)"
   ]
  },
  {
   "cell_type": "markdown",
   "metadata": {},
   "source": [
    "### 영어와 숫자로만 구성되어 있는지 확인하는 정규식 만들기"
   ]
  },
  {
   "cell_type": "code",
   "execution_count": 48,
   "metadata": {},
   "outputs": [
    {
     "name": "stdout",
     "output_type": "stream",
     "text": [
      "<re.Match object; span=(0, 8), match='abcd1234'>\n"
     ]
    }
   ],
   "source": [
    "import re\n",
    "text = 'abcd1234'\n",
    "regex = '^[a-zA-Z0-9]+$'\n",
    "pattern = re.compile(regex)\n",
    "res = pattern.match(text)\n",
    "print(res)"
   ]
  },
  {
   "cell_type": "markdown",
   "metadata": {},
   "source": [
    "### 숫자 2자리 + 영어 소문자 2자리 + 숫자 4자리로 구성되었는지 확인하는 정규식 만들기"
   ]
  },
  {
   "cell_type": "code",
   "execution_count": 34,
   "metadata": {},
   "outputs": [
    {
     "name": "stdout",
     "output_type": "stream",
     "text": [
      "<re.Match object; span=(0, 8), match='12ab1234'>\n"
     ]
    }
   ],
   "source": [
    "import re\n",
    "text = '12ab1234'\n",
    "regex = '\\d{2}[a-z]{2}[0-9]{4}'\n",
    "pattern = re.compile(regex)\n",
    "res = pattern.match(text)\n",
    "print(res)"
   ]
  },
  {
   "cell_type": "markdown",
   "metadata": {},
   "source": [
    "###  문자열의 내용 중 이름과 전화번호를 찾아내는 정규식 만들기"
   ]
  },
  {
   "cell_type": "code",
   "execution_count": 30,
   "metadata": {},
   "outputs": [
    {
     "name": "stdout",
     "output_type": "stream",
     "text": [
      "꼬렙\n",
      "1234\n"
     ]
    }
   ],
   "source": [
    "import re\n",
    "text = '이름:꼬렙, 전화번호:1234'\n",
    "regex = '^이름:(\\w+), 전화번호:(\\d+)$'\n",
    "pattern = re.compile(regex)\n",
    "res = pattern.match(text)\n",
    "print(res.group(1))\n",
    "print(res.group(2))"
   ]
  },
  {
   "cell_type": "markdown",
   "metadata": {},
   "source": [
    "### 문자열의 내용이 특정 형식에 맞는지 확인하는 정규식 만들기"
   ]
  },
  {
   "cell_type": "code",
   "execution_count": 20,
   "metadata": {},
   "outputs": [
    {
     "name": "stdout",
     "output_type": "stream",
     "text": [
      "<re.Match object; span=(0, 41), match='안녕하세요. 저는 OOO에서 태어났고... 열심히 하겠습니다. 감사합니다.'>\n"
     ]
    }
   ],
   "source": [
    "import re\n",
    "text = '안녕하세요. 저는 OOO에서 태어났고... 열심히 하겠습니다. 감사합니다.'\n",
    "regex = '^안녕하세요.*열심히.*감사합니다[.]$'\n",
    "pattern = re.compile(regex)\n",
    "res = pattern.match(text)\n",
    "print(res)\n",
    "\n",
    "# '안녕하세요' 라는 문자열로 시작\n",
    "#내용 중 '열심히' 라는 문자열 반드시 포함\n",
    "#'감사합니다.' 라는 문자열로 종료"
   ]
  },
  {
   "cell_type": "markdown",
   "metadata": {},
   "source": [
    "### () 로 그룹 만들기"
   ]
  },
  {
   "cell_type": "code",
   "execution_count": 1,
   "metadata": {},
   "outputs": [
    {
     "name": "stdout",
     "output_type": "stream",
     "text": [
      "<re.Match object; span=(0, 14), match='791111-1234567'>\n",
      "1234567\n"
     ]
    }
   ],
   "source": [
    "import re\n",
    "text = '791111-1234567'\n",
    "regex = '[0-9]{6}-([1-4]{1}\\d{6}$)'\n",
    "pattern = re.compile(regex)\n",
    "res = pattern.match(text)\n",
    "print(res)\n",
    "print(res.group(1))\n",
    "\n",
    "#앞자리 숫자 6개 / 뒷자리 숫자 7개 [0-9]{6}-\\d{7}\n",
    "#뒷자리의 시작 숫자는 1 ~ 4"
   ]
  },
  {
   "cell_type": "markdown",
   "metadata": {},
   "source": [
    "### 은행계좌번호 출력"
   ]
  },
  {
   "cell_type": "code",
   "execution_count": 9,
   "metadata": {},
   "outputs": [
    {
     "name": "stdout",
     "output_type": "stream",
     "text": [
      "<re.Match object; span=(0, 13), match='123-12-123456'>\n"
     ]
    }
   ],
   "source": [
    "import re\n",
    "text = '123-12-123456'\n",
    "regex = '1\\d{2}-1\\d{1}-\\d{6}'\n",
    "pattern = re.compile(regex)\n",
    "res = pattern.match(text)\n",
    "print(res)\n",
    "\n",
    "#숫자 3자리-숫자 2자리-숫자 6자리\n",
    "#첫번째 3자리 숫자의 시작은 반드시 1\n",
    "#두번째 2자리 숫자의 시작은 반드시 1"
   ]
  },
  {
   "cell_type": "markdown",
   "metadata": {},
   "source": [
    "### 주민등록번호 출력"
   ]
  },
  {
   "cell_type": "code",
   "execution_count": 3,
   "metadata": {},
   "outputs": [
    {
     "name": "stdout",
     "output_type": "stream",
     "text": [
      "<re.Match object; span=(0, 14), match='791111-1234567'>\n"
     ]
    }
   ],
   "source": [
    "import re\n",
    "text = '791111-1234567'\n",
    "regex = '[0-9]{6}-[1-4]{1}\\d{6}$'\n",
    "pattern = re.compile(regex)\n",
    "res = pattern.match(text)\n",
    "print(res)\n",
    "\n",
    "#앞자리 숫자 6개 / 뒷자리 숫자 7개 [0-9]{6}-\\d{7}\n",
    "#뒷자리의 시작 숫자는 1 ~ 4"
   ]
  },
  {
   "cell_type": "code",
   "execution_count": 10,
   "metadata": {},
   "outputs": [
    {
     "name": "stdout",
     "output_type": "stream",
     "text": [
      "<re.Match object; span=(0, 1), match='a'>\n"
     ]
    }
   ],
   "source": [
    "import re # 정규 표현식 사용을 위한 모듈 import\n",
    "pattern = re.compile('[a]')\n",
    "print(pattern.match('a'))"
   ]
  }
 ],
 "metadata": {
  "kernelspec": {
   "display_name": "Python 3",
   "language": "python",
   "name": "python3"
  },
  "language_info": {
   "codemirror_mode": {
    "name": "ipython",
    "version": 3
   },
   "file_extension": ".py",
   "mimetype": "text/x-python",
   "name": "python",
   "nbconvert_exporter": "python",
   "pygments_lexer": "ipython3",
   "version": "3.7.4"
  }
 },
 "nbformat": 4,
 "nbformat_minor": 2
}
