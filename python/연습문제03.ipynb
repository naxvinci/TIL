{
 "cells": [
  {
   "cell_type": "code",
   "execution_count": 24,
   "metadata": {},
   "outputs": [
    {
     "ename": "UnicodeDecodeError",
     "evalue": "'cp949' codec can't decode byte 0x80 in position 6: illegal multibyte sequence",
     "output_type": "error",
     "traceback": [
      "\u001b[1;31m---------------------------------------------------------------------------\u001b[0m",
      "\u001b[1;31mUnicodeDecodeError\u001b[0m                        Traceback (most recent call last)",
      "\u001b[1;32m<ipython-input-24-da76a239aaaf>\u001b[0m in \u001b[0;36m<module>\u001b[1;34m\u001b[0m\n\u001b[0;32m      1\u001b[0m \u001b[0mf\u001b[0m \u001b[1;33m=\u001b[0m \u001b[0mopen\u001b[0m\u001b[1;33m(\u001b[0m\u001b[1;34m'c:/dev/text.txt'\u001b[0m\u001b[1;33m,\u001b[0m \u001b[1;34m'rt'\u001b[0m\u001b[1;33m)\u001b[0m\u001b[1;33m\u001b[0m\u001b[1;33m\u001b[0m\u001b[0m\n\u001b[1;32m----> 2\u001b[1;33m \u001b[0mf\u001b[0m\u001b[1;33m.\u001b[0m\u001b[0mread\u001b[0m\u001b[1;33m(\u001b[0m\u001b[1;33m)\u001b[0m\u001b[1;33m\u001b[0m\u001b[1;33m\u001b[0m\u001b[0m\n\u001b[0m",
      "\u001b[1;31mUnicodeDecodeError\u001b[0m: 'cp949' codec can't decode byte 0x80 in position 6: illegal multibyte sequence"
     ]
    }
   ],
   "source": [
    "f = open('c:/dev/text.txt', 'rt')\n",
    "f.read()"
   ]
  },
  {
   "cell_type": "code",
   "execution_count": 22,
   "metadata": {},
   "outputs": [
    {
     "data": {
      "text/plain": [
       "[6, 7, 8]"
      ]
     },
     "execution_count": 22,
     "metadata": {},
     "output_type": "execute_result"
    }
   ],
   "source": [
    "ns = [2, 3, 4, 5, 6, 7, 8]\n",
    "\n",
    "myfunc = lambda numbers : [ number for number in numbers if number > 5 ]\n",
    "myfunc(ns)"
   ]
  },
  {
   "cell_type": "code",
   "execution_count": 23,
   "metadata": {},
   "outputs": [
    {
     "name": "stdout",
     "output_type": "stream",
     "text": [
      "[6, 7, 8]\n"
     ]
    }
   ],
   "source": [
    "def myfunc(numbers):\n",
    "    result = []\n",
    "    for number in numbers:\n",
    "         if number > 5:\n",
    "            result.append(number)\n",
    "    return result\n",
    "result = myfunc([2, 3, 4, 5, 6, 7, 8])\n",
    "print(result)"
   ]
  },
  {
   "cell_type": "code",
   "execution_count": 16,
   "metadata": {},
   "outputs": [
    {
     "name": "stdout",
     "output_type": "stream",
     "text": [
      "1234\n"
     ]
    }
   ],
   "source": [
    "text='' #전역변수\n",
    "def str_adder(*args):\n",
    "    global text\n",
    "    \n",
    "    for i in args:\n",
    "        text += i\n",
    "        \n",
    "str_adder('1', '2', '3', '4')\n",
    "print(text)"
   ]
  },
  {
   "cell_type": "code",
   "execution_count": 2,
   "metadata": {},
   "outputs": [
    {
     "name": "stdout",
     "output_type": "stream",
     "text": [
      "수박수박수박수박수\n"
     ]
    }
   ],
   "source": [
    "def print_str(n):\n",
    "    resulttt = 0\n",
    "    if n % 2 ==0:\n",
    "        resulttt = \"수박\"*(n//2)\n",
    "    else:\n",
    "        resulttt = \"수박\"*(n//2)+\"수\"\n",
    "    return resulttt\n",
    "\n",
    "print(print_str(9))    "
   ]
  },
  {
   "cell_type": "code",
   "execution_count": 7,
   "metadata": {},
   "outputs": [
    {
     "name": "stdout",
     "output_type": "stream",
     "text": [
      "35\n"
     ]
    }
   ],
   "source": [
    "def get_sequence(NN):\n",
    "    tottal = 0\n",
    "    rottal = 0\n",
    "    for i in range(1,NN+1):\n",
    "        tottal += i\n",
    "        rottal += tottal\n",
    "    return rottal\n",
    "\n",
    "print(get_sequence(5))"
   ]
  },
  {
   "cell_type": "code",
   "execution_count": 15,
   "metadata": {},
   "outputs": [
    {
     "data": {
      "text/plain": [
       "16"
      ]
     },
     "execution_count": 15,
     "metadata": {},
     "output_type": "execute_result"
    }
   ],
   "source": [
    "#선생님 버전\n",
    "def get_total(N):\n",
    "    total = 0\n",
    "    while True:\n",
    "        total += N % 10\n",
    "        N //= 10  # N = N //10 와 같은 의미\n",
    "        if N == 0: break\n",
    "    return total\n",
    "\n",
    "get_total(1357)\n",
    "        "
   ]
  },
  {
   "cell_type": "code",
   "execution_count": 13,
   "metadata": {},
   "outputs": [
    {
     "name": "stdout",
     "output_type": "stream",
     "text": [
      "16\n"
     ]
    }
   ],
   "source": [
    "def get_total(N):\n",
    "    total = 0\n",
    "    while N > 0:\n",
    "        i = N % 10\n",
    "        total += i\n",
    "        N = N //10\n",
    "    return total\n",
    "\n",
    "print(get_total(1357))\n",
    "        "
   ]
  },
  {
   "cell_type": "code",
   "execution_count": 7,
   "metadata": {
    "scrolled": true
   },
   "outputs": [
    {
     "name": "stdout",
     "output_type": "stream",
     "text": [
      "Pp\n"
     ]
    }
   ],
   "source": [
    "result=''\n",
    "def get_mid_char(words):\n",
    "    if len(words) % 2 != 0:\n",
    "        return words[len(words)//2]\n",
    "    if len(words) % 2 == 0:\n",
    "        return words[len(words)//2-1:len(words)//2+1]\n",
    "\n",
    "print(get_mid_char('haPppy'))"
   ]
  },
  {
   "cell_type": "code",
   "execution_count": 3,
   "metadata": {},
   "outputs": [
    {
     "name": "stdout",
     "output_type": "stream",
     "text": [
      "38\n"
     ]
    }
   ],
   "source": [
    "def diff_sum(a, b, c):\n",
    "    totall = a + b + c\n",
    "    zegob = a**2 + b**2 + c**2\n",
    "    return zegob - totall\n",
    "\n",
    "result = diff_sum(3, 4, 5)\n",
    "print(result)\n"
   ]
  },
  {
   "cell_type": "code",
   "execution_count": null,
   "metadata": {},
   "outputs": [],
   "source": [
    "list = [ 10, 20, 30, 40]\n",
    "list2 = [ lambda num : num * 2 for i in list]\n",
    "list2"
   ]
  },
  {
   "cell_type": "code",
   "execution_count": 16,
   "metadata": {},
   "outputs": [
    {
     "data": {
      "text/plain": [
       "[20, 40, 60, 80]"
      ]
     },
     "execution_count": 16,
     "metadata": {},
     "output_type": "execute_result"
    }
   ],
   "source": [
    "list = [ 10, 20, 30, 40]\n",
    "func = lambda num : num * 2\n",
    "func(list[3])\n",
    "list2 = [ func(i) for i in list]\n",
    "list2"
   ]
  },
  {
   "cell_type": "code",
   "execution_count": 11,
   "metadata": {},
   "outputs": [
    {
     "name": "stdout",
     "output_type": "stream",
     "text": [
      "(30, 7.5)\n"
     ]
    }
   ],
   "source": [
    "def calculator(nums):\n",
    "    total=0\n",
    "    \n",
    "    for i in nums:\n",
    "        total += i\n",
    "    average = total / len(nums)\n",
    "    return total, average\n",
    " # 코드 작성\n",
    "\n",
    "\n",
    "result = calculator([3, 7, 9, 11])\n",
    "print(result)"
   ]
  },
  {
   "cell_type": "code",
   "execution_count": 14,
   "metadata": {},
   "outputs": [
    {
     "name": "stdout",
     "output_type": "stream",
     "text": [
      "10\n",
      "55\n"
     ]
    }
   ],
   "source": [
    "# 코드 작성\n",
    "def plusAll(num):\n",
    "    total = 0\n",
    "    for i in range(1,int(num)+1):\n",
    "        total += i\n",
    "    return total\n",
    "num = input() #항상 문자열이 됨... int로 변환해주어야 함\n",
    "print(plusAll(num))\n",
    "\n",
    "\n",
    "# 1 ~ 10 까지의 range() 함수 사용 예) range(1, 11)"
   ]
  },
  {
   "cell_type": "code",
   "execution_count": 1,
   "metadata": {},
   "outputs": [
    {
     "name": "stdout",
     "output_type": "stream",
     "text": [
      "False\n",
      "True\n"
     ]
    }
   ],
   "source": [
    "def isOdd(num):\n",
    "    return num % 2 != 0\n",
    "\n",
    "print(isOdd(2))\n",
    "print(isOdd(3))"
   ]
  },
  {
   "cell_type": "code",
   "execution_count": 2,
   "metadata": {},
   "outputs": [
    {
     "name": "stdout",
     "output_type": "stream",
     "text": [
      "8\n",
      "2\n"
     ]
    }
   ],
   "source": [
    "# 코드 작성\n",
    "def plus(num1, num2):\n",
    "    return num1 + num2\n",
    "\n",
    "def minus(num1, num2):\n",
    "    return num1 - num2\n",
    "\n",
    "result1 = plus(5, 3)\n",
    "result2 = minus(5, 3)\n",
    "print(result1)\n",
    "print(result2)"
   ]
  },
  {
   "cell_type": "code",
   "execution_count": null,
   "metadata": {},
   "outputs": [],
   "source": []
  }
 ],
 "metadata": {
  "kernelspec": {
   "display_name": "Python 3",
   "language": "python",
   "name": "python3"
  },
  "language_info": {
   "codemirror_mode": {
    "name": "ipython",
    "version": 3
   },
   "file_extension": ".py",
   "mimetype": "text/x-python",
   "name": "python",
   "nbconvert_exporter": "python",
   "pygments_lexer": "ipython3",
   "version": "3.7.4"
  }
 },
 "nbformat": 4,
 "nbformat_minor": 2
}
