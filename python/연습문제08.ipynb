{
 "cells": [
  {
   "cell_type": "code",
   "execution_count": 41,
   "metadata": {},
   "outputs": [
    {
     "name": "stdout",
     "output_type": "stream",
     "text": [
      "2 일\n",
      "9 일\n",
      "16 일\n",
      "23 일\n",
      "30 일\n"
     ]
    }
   ],
   "source": [
    "import calendar\n",
    "week_dict = { 0 : '월', 1 : '화', 2 : '수', 3 : '목', 4 : '금', 5 : '토', 6 : '일' }\n",
    "\n",
    "last_day = calendar.monthrange(2004,8)[1]\n",
    "for day in range(last_day):\n",
    "    if # 답안 작성\n",
    "    "
   ]
  },
  {
   "cell_type": "code",
   "execution_count": 37,
   "metadata": {},
   "outputs": [
    {
     "name": "stdout",
     "output_type": "stream",
     "text": [
      "    August 2004\n",
      "Mo Tu We Th Fr Sa Su\n",
      "                   1\n",
      " 2  3  4  5  6  7  8\n",
      " 9 10 11 12 13 14 15\n",
      "16 17 18 19 20 21 22\n",
      "23 24 25 26 27 28 29\n",
      "30 31\n",
      "2\n",
      "9\n",
      "16\n",
      "23\n",
      "30\n"
     ]
    }
   ],
   "source": [
    "#  2004년 8월의 달력과 요일이 월요일인 날짜 출력\n",
    "calendar.prmonth(2004, 8)\n",
    "\n",
    "for i in range(1, 32):\n",
    "    if i % 7 == 2:\n",
    "        print(i)\n",
    "# 코드 작성\n",
    "# 해당 월의 마지막 날짜를 구한 후\n",
    "# 반복문과 조건문을 이용\n"
   ]
  },
  {
   "cell_type": "code",
   "execution_count": 34,
   "metadata": {},
   "outputs": [
    {
     "data": {
      "text/plain": [
       "'화'"
      ]
     },
     "execution_count": 34,
     "metadata": {},
     "output_type": "execute_result"
    }
   ],
   "source": [
    "import calendar\n",
    "week_dict = { 0 : '월', 1 : '화', 2 : '수', 3 : '목', 4 : '금', 5 : '토', 6 : '일' }\n",
    "# 코드 작성\n",
    "\n",
    "week_dict[calendar.weekday(2017, 5, 9)]"
   ]
  },
  {
   "cell_type": "code",
   "execution_count": 32,
   "metadata": {},
   "outputs": [
    {
     "data": {
      "text/plain": [
       "'2020 04 24 16:32:41'"
      ]
     },
     "execution_count": 32,
     "metadata": {},
     "output_type": "execute_result"
    }
   ],
   "source": [
    "\n",
    "\n",
    "time.strftime('%Y %m %d %H:%M:%S', time.localtime(time.time()+100 * 60 * 60 * 24))\n",
    "# time.time() + 초\n",
    "# 1시간 = 60초 * 60분"
   ]
  },
  {
   "cell_type": "code",
   "execution_count": null,
   "metadata": {},
   "outputs": [],
   "source": [
    "minute = 1.5\n",
    "time.sleep( minute * 60 * 60 * 24)"
   ]
  },
  {
   "cell_type": "code",
   "execution_count": 30,
   "metadata": {},
   "outputs": [
    {
     "data": {
      "text/plain": [
       "'2020 01 15 16:23:42'"
      ]
     },
     "execution_count": 30,
     "metadata": {},
     "output_type": "execute_result"
    }
   ],
   "source": [
    "time.strftime('%Y %m %d %H:%M:%S', time.localtime(time.time()))"
   ]
  },
  {
   "cell_type": "code",
   "execution_count": 14,
   "metadata": {},
   "outputs": [],
   "source": [
    "import time"
   ]
  },
  {
   "cell_type": "code",
   "execution_count": 24,
   "metadata": {},
   "outputs": [
    {
     "data": {
      "text/plain": [
       "time.struct_time(tm_year=2020, tm_mon=1, tm_mday=15, tm_hour=16, tm_min=15, tm_sec=9, tm_wday=2, tm_yday=15, tm_isdst=0)"
      ]
     },
     "execution_count": 24,
     "metadata": {},
     "output_type": "execute_result"
    }
   ],
   "source": [
    "time.localtime(time.time())"
   ]
  },
  {
   "cell_type": "code",
   "execution_count": 22,
   "metadata": {},
   "outputs": [
    {
     "data": {
      "text/plain": [
       "1579072197.688914"
      ]
     },
     "execution_count": 22,
     "metadata": {},
     "output_type": "execute_result"
    }
   ],
   "source": [
    "time.time()"
   ]
  },
  {
   "cell_type": "code",
   "execution_count": 23,
   "metadata": {},
   "outputs": [],
   "source": [
    "import random\n",
    "random.seed(time.time())"
   ]
  },
  {
   "cell_type": "code",
   "execution_count": 13,
   "metadata": {},
   "outputs": [
    {
     "name": "stdout",
     "output_type": "stream",
     "text": [
      "173\n"
     ]
    }
   ],
   "source": [
    "# 파일 중 확장자가 py인 파일의 개수 확인하기\n",
    "import glob\n",
    "fileList = glob.glob('C:/Users/student/Miniconda3/Lib/*.py')\n",
    "count = len(fileList)\n",
    "print(count)"
   ]
  },
  {
   "cell_type": "code",
   "execution_count": 12,
   "metadata": {},
   "outputs": [
    {
     "name": "stdout",
     "output_type": "stream",
     "text": [
      "173\n"
     ]
    }
   ],
   "source": [
    "# 파일 중 확장자가 py인 파일의 개수 확인하기\n",
    "import glob\n",
    "fileList = glob.glob('C:/Users/student/Miniconda3/Lib/*')\n",
    "count = 0\n",
    "for file in fileList:\n",
    "    if '.py' in file:\n",
    "        count += 1\n",
    "print(count)"
   ]
  },
  {
   "cell_type": "code",
   "execution_count": 11,
   "metadata": {},
   "outputs": [
    {
     "data": {
      "text/plain": [
       "'C:/papapa\\\\hosts'"
      ]
     },
     "execution_count": 11,
     "metadata": {},
     "output_type": "execute_result"
    }
   ],
   "source": [
    "#파일 복사하기\n",
    "import shutil\n",
    "\n",
    "shutil.copy('C:/Windows/System32/drivers/etc/hosts', 'C:/papapa')"
   ]
  },
  {
   "cell_type": "code",
   "execution_count": 8,
   "metadata": {
    "scrolled": true
   },
   "outputs": [
    {
     "name": "stdout",
     "output_type": "stream",
     "text": [
      "['C:/Users/student/Miniconda3/Lib\\\\abc.py', 'C:/Users/student/Miniconda3/Lib\\\\aifc.py', 'C:/Users/student/Miniconda3/Lib\\\\antigravity.py', 'C:/Users/student/Miniconda3/Lib\\\\argparse.py', 'C:/Users/student/Miniconda3/Lib\\\\ast.py', 'C:/Users/student/Miniconda3/Lib\\\\asynchat.py', 'C:/Users/student/Miniconda3/Lib\\\\asyncio', 'C:/Users/student/Miniconda3/Lib\\\\asyncore.py', 'C:/Users/student/Miniconda3/Lib\\\\base64.py', 'C:/Users/student/Miniconda3/Lib\\\\bdb.py', 'C:/Users/student/Miniconda3/Lib\\\\binhex.py', 'C:/Users/student/Miniconda3/Lib\\\\bisect.py', 'C:/Users/student/Miniconda3/Lib\\\\bz2.py', 'C:/Users/student/Miniconda3/Lib\\\\calendar.py', 'C:/Users/student/Miniconda3/Lib\\\\cgi.py', 'C:/Users/student/Miniconda3/Lib\\\\cgitb.py', 'C:/Users/student/Miniconda3/Lib\\\\chunk.py', 'C:/Users/student/Miniconda3/Lib\\\\cmd.py', 'C:/Users/student/Miniconda3/Lib\\\\code.py', 'C:/Users/student/Miniconda3/Lib\\\\codecs.py', 'C:/Users/student/Miniconda3/Lib\\\\codeop.py', 'C:/Users/student/Miniconda3/Lib\\\\collections', 'C:/Users/student/Miniconda3/Lib\\\\colorsys.py', 'C:/Users/student/Miniconda3/Lib\\\\compileall.py', 'C:/Users/student/Miniconda3/Lib\\\\concurrent', 'C:/Users/student/Miniconda3/Lib\\\\configparser.py', 'C:/Users/student/Miniconda3/Lib\\\\contextlib.py', 'C:/Users/student/Miniconda3/Lib\\\\contextvars.py', 'C:/Users/student/Miniconda3/Lib\\\\copy.py', 'C:/Users/student/Miniconda3/Lib\\\\copyreg.py', 'C:/Users/student/Miniconda3/Lib\\\\cProfile.py', 'C:/Users/student/Miniconda3/Lib\\\\crypt.py', 'C:/Users/student/Miniconda3/Lib\\\\csv.py', 'C:/Users/student/Miniconda3/Lib\\\\ctypes', 'C:/Users/student/Miniconda3/Lib\\\\curses', 'C:/Users/student/Miniconda3/Lib\\\\dataclasses.py', 'C:/Users/student/Miniconda3/Lib\\\\datetime.py', 'C:/Users/student/Miniconda3/Lib\\\\dbm', 'C:/Users/student/Miniconda3/Lib\\\\decimal.py', 'C:/Users/student/Miniconda3/Lib\\\\difflib.py', 'C:/Users/student/Miniconda3/Lib\\\\dis.py', 'C:/Users/student/Miniconda3/Lib\\\\distutils', 'C:/Users/student/Miniconda3/Lib\\\\doctest.py', 'C:/Users/student/Miniconda3/Lib\\\\dummy_threading.py', 'C:/Users/student/Miniconda3/Lib\\\\email', 'C:/Users/student/Miniconda3/Lib\\\\encodings', 'C:/Users/student/Miniconda3/Lib\\\\ensurepip', 'C:/Users/student/Miniconda3/Lib\\\\enum.py', 'C:/Users/student/Miniconda3/Lib\\\\filecmp.py', 'C:/Users/student/Miniconda3/Lib\\\\fileinput.py', 'C:/Users/student/Miniconda3/Lib\\\\fnmatch.py', 'C:/Users/student/Miniconda3/Lib\\\\formatter.py', 'C:/Users/student/Miniconda3/Lib\\\\fractions.py', 'C:/Users/student/Miniconda3/Lib\\\\ftplib.py', 'C:/Users/student/Miniconda3/Lib\\\\functools.py', 'C:/Users/student/Miniconda3/Lib\\\\genericpath.py', 'C:/Users/student/Miniconda3/Lib\\\\getopt.py', 'C:/Users/student/Miniconda3/Lib\\\\getpass.py', 'C:/Users/student/Miniconda3/Lib\\\\gettext.py', 'C:/Users/student/Miniconda3/Lib\\\\glob.py', 'C:/Users/student/Miniconda3/Lib\\\\gzip.py', 'C:/Users/student/Miniconda3/Lib\\\\hashlib.py', 'C:/Users/student/Miniconda3/Lib\\\\heapq.py', 'C:/Users/student/Miniconda3/Lib\\\\hmac.py', 'C:/Users/student/Miniconda3/Lib\\\\html', 'C:/Users/student/Miniconda3/Lib\\\\http', 'C:/Users/student/Miniconda3/Lib\\\\idlelib', 'C:/Users/student/Miniconda3/Lib\\\\imaplib.py', 'C:/Users/student/Miniconda3/Lib\\\\imghdr.py', 'C:/Users/student/Miniconda3/Lib\\\\imp.py', 'C:/Users/student/Miniconda3/Lib\\\\importlib', 'C:/Users/student/Miniconda3/Lib\\\\inspect.py', 'C:/Users/student/Miniconda3/Lib\\\\io.py', 'C:/Users/student/Miniconda3/Lib\\\\ipaddress.py', 'C:/Users/student/Miniconda3/Lib\\\\json', 'C:/Users/student/Miniconda3/Lib\\\\keyword.py', 'C:/Users/student/Miniconda3/Lib\\\\lib2to3', 'C:/Users/student/Miniconda3/Lib\\\\linecache.py', 'C:/Users/student/Miniconda3/Lib\\\\locale.py', 'C:/Users/student/Miniconda3/Lib\\\\logging', 'C:/Users/student/Miniconda3/Lib\\\\lzma.py', 'C:/Users/student/Miniconda3/Lib\\\\macpath.py', 'C:/Users/student/Miniconda3/Lib\\\\mailbox.py', 'C:/Users/student/Miniconda3/Lib\\\\mailcap.py', 'C:/Users/student/Miniconda3/Lib\\\\mimetypes.py', 'C:/Users/student/Miniconda3/Lib\\\\modulefinder.py', 'C:/Users/student/Miniconda3/Lib\\\\msilib', 'C:/Users/student/Miniconda3/Lib\\\\multiprocessing', 'C:/Users/student/Miniconda3/Lib\\\\netrc.py', 'C:/Users/student/Miniconda3/Lib\\\\nntplib.py', 'C:/Users/student/Miniconda3/Lib\\\\ntpath.py', 'C:/Users/student/Miniconda3/Lib\\\\nturl2path.py', 'C:/Users/student/Miniconda3/Lib\\\\numbers.py', 'C:/Users/student/Miniconda3/Lib\\\\opcode.py', 'C:/Users/student/Miniconda3/Lib\\\\operator.py', 'C:/Users/student/Miniconda3/Lib\\\\optparse.py', 'C:/Users/student/Miniconda3/Lib\\\\os.py', 'C:/Users/student/Miniconda3/Lib\\\\pathlib.py', 'C:/Users/student/Miniconda3/Lib\\\\pdb.py', 'C:/Users/student/Miniconda3/Lib\\\\pickle.py', 'C:/Users/student/Miniconda3/Lib\\\\pickletools.py', 'C:/Users/student/Miniconda3/Lib\\\\pipes.py', 'C:/Users/student/Miniconda3/Lib\\\\pkgutil.py', 'C:/Users/student/Miniconda3/Lib\\\\platform.py', 'C:/Users/student/Miniconda3/Lib\\\\plistlib.py', 'C:/Users/student/Miniconda3/Lib\\\\poplib.py', 'C:/Users/student/Miniconda3/Lib\\\\posixpath.py', 'C:/Users/student/Miniconda3/Lib\\\\pprint.py', 'C:/Users/student/Miniconda3/Lib\\\\profile.py', 'C:/Users/student/Miniconda3/Lib\\\\pstats.py', 'C:/Users/student/Miniconda3/Lib\\\\pty.py', 'C:/Users/student/Miniconda3/Lib\\\\pyclbr.py', 'C:/Users/student/Miniconda3/Lib\\\\pydoc.py', 'C:/Users/student/Miniconda3/Lib\\\\pydoc_data', 'C:/Users/student/Miniconda3/Lib\\\\py_compile.py', 'C:/Users/student/Miniconda3/Lib\\\\queue.py', 'C:/Users/student/Miniconda3/Lib\\\\quopri.py', 'C:/Users/student/Miniconda3/Lib\\\\random.py', 'C:/Users/student/Miniconda3/Lib\\\\re.py', 'C:/Users/student/Miniconda3/Lib\\\\reprlib.py', 'C:/Users/student/Miniconda3/Lib\\\\rlcompleter.py', 'C:/Users/student/Miniconda3/Lib\\\\runpy.py', 'C:/Users/student/Miniconda3/Lib\\\\sched.py', 'C:/Users/student/Miniconda3/Lib\\\\secrets.py', 'C:/Users/student/Miniconda3/Lib\\\\selectors.py', 'C:/Users/student/Miniconda3/Lib\\\\shelve.py', 'C:/Users/student/Miniconda3/Lib\\\\shlex.py', 'C:/Users/student/Miniconda3/Lib\\\\shutil.py', 'C:/Users/student/Miniconda3/Lib\\\\signal.py', 'C:/Users/student/Miniconda3/Lib\\\\site-packages', 'C:/Users/student/Miniconda3/Lib\\\\site.py', 'C:/Users/student/Miniconda3/Lib\\\\smtpd.py', 'C:/Users/student/Miniconda3/Lib\\\\smtplib.py', 'C:/Users/student/Miniconda3/Lib\\\\sndhdr.py', 'C:/Users/student/Miniconda3/Lib\\\\socket.py', 'C:/Users/student/Miniconda3/Lib\\\\socketserver.py', 'C:/Users/student/Miniconda3/Lib\\\\sqlite3', 'C:/Users/student/Miniconda3/Lib\\\\sre_compile.py', 'C:/Users/student/Miniconda3/Lib\\\\sre_constants.py', 'C:/Users/student/Miniconda3/Lib\\\\sre_parse.py', 'C:/Users/student/Miniconda3/Lib\\\\ssl.py', 'C:/Users/student/Miniconda3/Lib\\\\stat.py', 'C:/Users/student/Miniconda3/Lib\\\\statistics.py', 'C:/Users/student/Miniconda3/Lib\\\\string.py', 'C:/Users/student/Miniconda3/Lib\\\\stringprep.py', 'C:/Users/student/Miniconda3/Lib\\\\struct.py', 'C:/Users/student/Miniconda3/Lib\\\\subprocess.py', 'C:/Users/student/Miniconda3/Lib\\\\sunau.py', 'C:/Users/student/Miniconda3/Lib\\\\symbol.py', 'C:/Users/student/Miniconda3/Lib\\\\symtable.py', 'C:/Users/student/Miniconda3/Lib\\\\sysconfig.py', 'C:/Users/student/Miniconda3/Lib\\\\tabnanny.py', 'C:/Users/student/Miniconda3/Lib\\\\tarfile.py', 'C:/Users/student/Miniconda3/Lib\\\\telnetlib.py', 'C:/Users/student/Miniconda3/Lib\\\\tempfile.py', 'C:/Users/student/Miniconda3/Lib\\\\test', 'C:/Users/student/Miniconda3/Lib\\\\textwrap.py', 'C:/Users/student/Miniconda3/Lib\\\\this.py', 'C:/Users/student/Miniconda3/Lib\\\\threading.py', 'C:/Users/student/Miniconda3/Lib\\\\timeit.py', 'C:/Users/student/Miniconda3/Lib\\\\tkinter', 'C:/Users/student/Miniconda3/Lib\\\\token.py', 'C:/Users/student/Miniconda3/Lib\\\\tokenize.py', 'C:/Users/student/Miniconda3/Lib\\\\trace.py', 'C:/Users/student/Miniconda3/Lib\\\\traceback.py', 'C:/Users/student/Miniconda3/Lib\\\\tracemalloc.py', 'C:/Users/student/Miniconda3/Lib\\\\tty.py', 'C:/Users/student/Miniconda3/Lib\\\\turtle.py', 'C:/Users/student/Miniconda3/Lib\\\\turtledemo', 'C:/Users/student/Miniconda3/Lib\\\\types.py', 'C:/Users/student/Miniconda3/Lib\\\\typing.py', 'C:/Users/student/Miniconda3/Lib\\\\unittest', 'C:/Users/student/Miniconda3/Lib\\\\urllib', 'C:/Users/student/Miniconda3/Lib\\\\uu.py', 'C:/Users/student/Miniconda3/Lib\\\\uuid.py', 'C:/Users/student/Miniconda3/Lib\\\\venv', 'C:/Users/student/Miniconda3/Lib\\\\warnings.py', 'C:/Users/student/Miniconda3/Lib\\\\wave.py', 'C:/Users/student/Miniconda3/Lib\\\\weakref.py', 'C:/Users/student/Miniconda3/Lib\\\\webbrowser.py', 'C:/Users/student/Miniconda3/Lib\\\\wsgiref', 'C:/Users/student/Miniconda3/Lib\\\\xdrlib.py', 'C:/Users/student/Miniconda3/Lib\\\\xml', 'C:/Users/student/Miniconda3/Lib\\\\xmlrpc', 'C:/Users/student/Miniconda3/Lib\\\\zipapp.py', 'C:/Users/student/Miniconda3/Lib\\\\zipfile.py', 'C:/Users/student/Miniconda3/Lib\\\\_bootlocale.py', 'C:/Users/student/Miniconda3/Lib\\\\_collections_abc.py', 'C:/Users/student/Miniconda3/Lib\\\\_compat_pickle.py', 'C:/Users/student/Miniconda3/Lib\\\\_compression.py', 'C:/Users/student/Miniconda3/Lib\\\\_dummy_thread.py', 'C:/Users/student/Miniconda3/Lib\\\\_markupbase.py', 'C:/Users/student/Miniconda3/Lib\\\\_nsis.py', 'C:/Users/student/Miniconda3/Lib\\\\_osx_support.py', 'C:/Users/student/Miniconda3/Lib\\\\_pydecimal.py', 'C:/Users/student/Miniconda3/Lib\\\\_pyio.py', 'C:/Users/student/Miniconda3/Lib\\\\_py_abc.py', 'C:/Users/student/Miniconda3/Lib\\\\_sitebuiltins.py', 'C:/Users/student/Miniconda3/Lib\\\\_strptime.py', 'C:/Users/student/Miniconda3/Lib\\\\_system_path.py', 'C:/Users/student/Miniconda3/Lib\\\\_threading_local.py', 'C:/Users/student/Miniconda3/Lib\\\\_weakrefset.py', 'C:/Users/student/Miniconda3/Lib\\\\__future__.py', 'C:/Users/student/Miniconda3/Lib\\\\__phello__.foo.py', 'C:/Users/student/Miniconda3/Lib\\\\__pycache__']\n"
     ]
    }
   ],
   "source": [
    "import glob\n",
    "fileList = glob.glob('C:/Users/student/Miniconda3/Lib/*')\n",
    "print(fileList)"
   ]
  },
  {
   "cell_type": "code",
   "execution_count": 45,
   "metadata": {},
   "outputs": [],
   "source": [
    "import os\n",
    "\n",
    "os.mkdir('C:/papapa')\n",
    "os.mkdir('C:/papapa/a')\n",
    "file = open('C:/papapa/a/hello.txt', 'wt')\n",
    "file.write('hello')\n",
    "file.close()"
   ]
  },
  {
   "cell_type": "code",
   "execution_count": 3,
   "metadata": {},
   "outputs": [
    {
     "data": {
      "text/plain": [
       "(100, 200)"
      ]
     },
     "execution_count": 3,
     "metadata": {},
     "output_type": "execute_result"
    }
   ],
   "source": [
    "import pickle\n",
    "file = open('data.bin', 'rb')\n",
    "data = pickle.load(file)\n",
    "data.get_location()"
   ]
  },
  {
   "cell_type": "code",
   "execution_count": 2,
   "metadata": {},
   "outputs": [],
   "source": [
    "import pickle\n",
    "class NowData:\n",
    "    def __init__(self):\n",
    "        self.x = 0\n",
    "        self.y = 0\n",
    "    def move(self, x, y):\n",
    "        self.x = x\n",
    "        self.y = y\n",
    "    def get_location(self):\n",
    "        return self.x, self.y\n",
    "data = NowData()\n",
    "data.move(100, 200)\n",
    "# 코드 작성\n",
    "\n",
    "file = open('data.bin', 'wb')\n",
    "pickle.dump(data, file)\n",
    "file.close()"
   ]
  },
  {
   "cell_type": "code",
   "execution_count": 1,
   "metadata": {},
   "outputs": [
    {
     "name": "stdout",
     "output_type": "stream",
     "text": [
      "['C:\\\\Users\\\\student', 'C:\\\\Users\\\\student\\\\Miniconda3\\\\python37.zip', 'C:\\\\Users\\\\student\\\\Miniconda3\\\\DLLs', 'C:\\\\Users\\\\student\\\\Miniconda3\\\\lib', 'C:\\\\Users\\\\student\\\\Miniconda3', '', 'C:\\\\Users\\\\student\\\\Miniconda3\\\\lib\\\\site-packages', 'C:\\\\Users\\\\student\\\\Miniconda3\\\\lib\\\\site-packages\\\\win32', 'C:\\\\Users\\\\student\\\\Miniconda3\\\\lib\\\\site-packages\\\\win32\\\\lib', 'C:\\\\Users\\\\student\\\\Miniconda3\\\\lib\\\\site-packages\\\\Pythonwin', 'C:\\\\Users\\\\student\\\\Miniconda3\\\\lib\\\\site-packages\\\\IPython\\\\extensions', 'C:\\\\Users\\\\student\\\\.ipython']\n"
     ]
    }
   ],
   "source": [
    "import sys\n",
    "\n",
    "print(sys.path)"
   ]
  }
 ],
 "metadata": {
  "kernelspec": {
   "display_name": "Python 3",
   "language": "python",
   "name": "python3"
  },
  "language_info": {
   "codemirror_mode": {
    "name": "ipython",
    "version": 3
   },
   "file_extension": ".py",
   "mimetype": "text/x-python",
   "name": "python",
   "nbconvert_exporter": "python",
   "pygments_lexer": "ipython3",
   "version": "3.7.4"
  }
 },
 "nbformat": 4,
 "nbformat_minor": 2
}
