{
 "cells": [
  {
   "cell_type": "markdown",
   "metadata": {},
   "source": [
    "# 실습\n",
    "## python 기본"
   ]
  },
  {
   "cell_type": "markdown",
   "metadata": {},
   "source": [
    "### 1. 구구단 출력함수 작성하기\n",
    "아래와 같이 구구단을 출력하는 코드가 있다."
   ]
  },
  {
   "cell_type": "code",
   "execution_count": 3,
   "metadata": {},
   "outputs": [
    {
     "name": "stdout",
     "output_type": "stream",
     "text": [
      "[[1, 2, 3, 4, 5, 6, 7, 8, 9], [2, 4, 6, 8, 10, 12, 14, 16, 18], [3, 6, 9, 12, 15, 18, 21, 24, 27], [4, 8, 12, 16, 20, 24, 28, 32, 36], [5, 10, 15, 20, 25, 30, 35, 40, 45], [6, 12, 18, 24, 30, 36, 42, 48, 54], [7, 14, 21, 28, 35, 42, 49, 56, 63], [8, 16, 24, 32, 40, 48, 56, 64, 72], [9, 18, 27, 36, 45, 54, 63, 72, 81]]\n"
     ]
    }
   ],
   "source": [
    "list99 = []\n",
    "for j in range(1, 10):\n",
    "    l = []\n",
    "    for i in range(1, 10):\n",
    "        l.append(i*j)\n",
    "    list99.append(l)\n",
    "print(list99)"
   ]
  },
  {
   "cell_type": "markdown",
   "metadata": {},
   "source": [
    "이를 참고하여, 다음과 같은 결과를 프린트하는 함수 f99를 작성하라.\n",
    "```\n",
    "f99(3)\n",
    "[3, 6, 9, ..., 27]\n",
    "\n",
    "f99([4, 7])\n",
    "[4, 8, 12, ..., 36]\n",
    "[7, 14, 35, ..., 63]\n",
    "\n",
    "f99(21)\n",
    "0보다 크고 10보다 작은 값을 입력하세요.\n",
    "\n",
    "f99([10, 7])\n",
    "0보다 크고 10보다 작은 값을 입력하세요.\n",
    "[7, 14, 35, ..., 63]\n",
    "```\n",
    "\n",
    "아래 코드를 참고하여 :"
   ]
  },
  {
   "cell_type": "code",
   "execution_count": 8,
   "metadata": {},
   "outputs": [
    {
     "name": "stdout",
     "output_type": "stream",
     "text": [
      "3\n",
      "4\n"
     ]
    }
   ],
   "source": [
    "z = 5\n",
    "y = [3, 4]\n",
    "x = y\n",
    "from collections.abc import Iterable\n",
    "if isinstance(x, Iterable):\n",
    "    for i in x:\n",
    "        print(i)\n",
    "else:\n",
    "    print(x)"
   ]
  },
  {
   "cell_type": "markdown",
   "metadata": {},
   "source": [
    "1. 2단, 7단 등을 출력하는 print99 함수를 만들고,\n",
    "2. 예외처리를 하고, print99를 이용하여 최종처리를 하는 f99를 완성하세요."
   ]
  },
  {
   "cell_type": "code",
   "execution_count": null,
   "metadata": {},
   "outputs": [],
   "source": [
    "def print99(x):\n",
    "    xlist = []\n",
    "    # 아래 사항을 완성하세요.\n",
    "    for i in range():\n",
    "        pass\n",
    "    print(xlist)\n",
    "\n",
    "def f99(x):\n",
    "    errorstring = \"0보다 크고 10보다 작은 값을 입력하세요.\"\n",
    "    # 아래 사항을 완성하세요.\n",
    "    if condition:\n",
    "        for j in x:\n",
    "            if condition2:\n",
    "                print99(j)\n",
    "            else:\n",
    "                print(errorstring)\n",
    "    else:\n",
    "        if conditon2:\n",
    "            print99(x)\n",
    "        else:\n",
    "            print(errorstring)\n",
    "    "
   ]
  },
  {
   "cell_type": "code",
   "execution_count": null,
   "metadata": {},
   "outputs": [],
   "source": [
    "f99(3)\n",
    "f99([4, 7])\n",
    "f99(21)\n",
    "f99([10, 7])"
   ]
  },
  {
   "cell_type": "markdown",
   "metadata": {},
   "source": [
    "### 2 함수\n",
    "리스트 x와 값 v를 받아서 v의 배수가 되는 모든 리스트 x의 성분을 담은 리스트를 출력하는 factors 함수를 작성하라. 만약 없다면 -1을 리턴하라.\n",
    "\n",
    "즉:\n",
    "```\n",
    "factors([4, 9, 21, 7], 3)\n",
    "[9, 21]\n",
    "\n",
    "factors([4, 9, 21, 7], 11)\n",
    "-1\n",
    "```\n",
    "\n",
    "우리가 작성한 seqsearchall 함수를 참고하라.\n",
    "```python\n",
    "def seqsearchall(l, target):\n",
    "    ret = []\n",
    "    isnot = 0\n",
    "    for i in range(len(l)):\n",
    "        if l[i] == target:\n",
    "            ret.append(i)\n",
    "            isnot = 1\n",
    "        elif l[i] > target:\n",
    "            if isnot == 1: return ret\n",
    "            else: return -1\n",
    "    return -1\n",
    "```"
   ]
  },
  {
   "cell_type": "code",
   "execution_count": null,
   "metadata": {},
   "outputs": [],
   "source": [
    "def factors(x, v):\n",
    "    ret = []\n",
    "    isnot = 0\n",
    "    for i in range(len(x)):\n",
    "        pass"
   ]
  },
  {
   "cell_type": "code",
   "execution_count": null,
   "metadata": {},
   "outputs": [],
   "source": [
    "factors([4, 9, 21, 7], 3)"
   ]
  },
  {
   "cell_type": "code",
   "execution_count": null,
   "metadata": {},
   "outputs": [],
   "source": [
    "factors([4, 9, 21, 7], 11)"
   ]
  },
  {
   "cell_type": "markdown",
   "metadata": {},
   "source": [
    "## numpy, pandas\n",
    "### 3 numpy\n",
    "임의의 0 ~ 99의 정수 값을 갖는 5 x 5 shape의 array를 생성하고 열 평균과 행 평균, 대각성분의 평균을 구하시오."
   ]
  },
  {
   "cell_type": "code",
   "execution_count": 38,
   "metadata": {},
   "outputs": [
    {
     "data": {
      "text/plain": [
       "array([[45, 39, 55, 56, 48],\n",
       "       [78, 34, 99, 52, 32],\n",
       "       [27, 64, 78, 58, 32],\n",
       "       [91, 17, 13, 55, 25],\n",
       "       [10, 31, 26, 22, 10],\n",
       "       [97, 38, 18, 77, 91]])"
      ]
     },
     "execution_count": 38,
     "metadata": {},
     "output_type": "execute_result"
    }
   ],
   "source": [
    "import numpy as np\n",
    "from numpy.random import randn\n",
    "\n",
    "dd = np.random.randint(0, 100, size=(6, 5))\n",
    "dd"
   ]
  },
  {
   "cell_type": "code",
   "execution_count": 43,
   "metadata": {},
   "outputs": [
    {
     "ename": "AttributeError",
     "evalue": "'DataFrame' object has no attribute 'trace'",
     "output_type": "error",
     "traceback": [
      "\u001b[1;31m---------------------------------------------------------------------------\u001b[0m",
      "\u001b[1;31mAttributeError\u001b[0m                            Traceback (most recent call last)",
      "\u001b[1;32m<ipython-input-43-1809dcf0f0b8>\u001b[0m in \u001b[0;36m<module>\u001b[1;34m\u001b[0m\n\u001b[0;32m      1\u001b[0m \u001b[0my\u001b[0m \u001b[1;33m=\u001b[0m \u001b[0mdd\u001b[0m\u001b[1;33m.\u001b[0m\u001b[0mmean\u001b[0m\u001b[1;33m(\u001b[0m\u001b[0maxis\u001b[0m\u001b[1;33m=\u001b[0m\u001b[1;36m1\u001b[0m\u001b[1;33m)\u001b[0m \u001b[1;31m# 행 평균\u001b[0m\u001b[1;33m\u001b[0m\u001b[1;33m\u001b[0m\u001b[0m\n\u001b[0;32m      2\u001b[0m \u001b[0mx\u001b[0m \u001b[1;33m=\u001b[0m \u001b[0mdd\u001b[0m\u001b[1;33m.\u001b[0m\u001b[0mmean\u001b[0m\u001b[1;33m(\u001b[0m\u001b[0maxis\u001b[0m\u001b[1;33m=\u001b[0m\u001b[1;36m0\u001b[0m\u001b[1;33m)\u001b[0m\u001b[1;33m\u001b[0m\u001b[1;33m\u001b[0m\u001b[0m\n\u001b[1;32m----> 3\u001b[1;33m \u001b[0mz\u001b[0m \u001b[1;33m=\u001b[0m \u001b[0mdf\u001b[0m\u001b[1;33m.\u001b[0m\u001b[0mtrace\u001b[0m\u001b[1;33m(\u001b[0m\u001b[1;33m)\u001b[0m \u001b[1;33m/\u001b[0m \u001b[0mdf\u001b[0m\u001b[1;33m.\u001b[0m\u001b[0mshape\u001b[0m\u001b[1;33m[\u001b[0m\u001b[1;36m0\u001b[0m\u001b[1;33m]\u001b[0m\u001b[1;33m\u001b[0m\u001b[1;33m\u001b[0m\u001b[0m\n\u001b[0m",
      "\u001b[1;32m~\\Anaconda3\\lib\\site-packages\\pandas\\core\\generic.py\u001b[0m in \u001b[0;36m__getattr__\u001b[1;34m(self, name)\u001b[0m\n\u001b[0;32m   5177\u001b[0m             \u001b[1;32mif\u001b[0m \u001b[0mself\u001b[0m\u001b[1;33m.\u001b[0m\u001b[0m_info_axis\u001b[0m\u001b[1;33m.\u001b[0m\u001b[0m_can_hold_identifiers_and_holds_name\u001b[0m\u001b[1;33m(\u001b[0m\u001b[0mname\u001b[0m\u001b[1;33m)\u001b[0m\u001b[1;33m:\u001b[0m\u001b[1;33m\u001b[0m\u001b[1;33m\u001b[0m\u001b[0m\n\u001b[0;32m   5178\u001b[0m                 \u001b[1;32mreturn\u001b[0m \u001b[0mself\u001b[0m\u001b[1;33m[\u001b[0m\u001b[0mname\u001b[0m\u001b[1;33m]\u001b[0m\u001b[1;33m\u001b[0m\u001b[1;33m\u001b[0m\u001b[0m\n\u001b[1;32m-> 5179\u001b[1;33m             \u001b[1;32mreturn\u001b[0m \u001b[0mobject\u001b[0m\u001b[1;33m.\u001b[0m\u001b[0m__getattribute__\u001b[0m\u001b[1;33m(\u001b[0m\u001b[0mself\u001b[0m\u001b[1;33m,\u001b[0m \u001b[0mname\u001b[0m\u001b[1;33m)\u001b[0m\u001b[1;33m\u001b[0m\u001b[1;33m\u001b[0m\u001b[0m\n\u001b[0m\u001b[0;32m   5180\u001b[0m \u001b[1;33m\u001b[0m\u001b[0m\n\u001b[0;32m   5181\u001b[0m     \u001b[1;32mdef\u001b[0m \u001b[0m__setattr__\u001b[0m\u001b[1;33m(\u001b[0m\u001b[0mself\u001b[0m\u001b[1;33m,\u001b[0m \u001b[0mname\u001b[0m\u001b[1;33m,\u001b[0m \u001b[0mvalue\u001b[0m\u001b[1;33m)\u001b[0m\u001b[1;33m:\u001b[0m\u001b[1;33m\u001b[0m\u001b[1;33m\u001b[0m\u001b[0m\n",
      "\u001b[1;31mAttributeError\u001b[0m: 'DataFrame' object has no attribute 'trace'"
     ]
    }
   ],
   "source": [
    "y = dd.mean(axis=1) # 행 평균\n",
    "x = dd.mean(axis=0)\n",
    "z = df.trace() / df.shape[0]"
   ]
  },
  {
   "cell_type": "code",
   "execution_count": 41,
   "metadata": {},
   "outputs": [
    {
     "data": {
      "text/plain": [
       "array([48.6, 59. , 51.8, 40.2, 19.8, 64.2])"
      ]
     },
     "execution_count": 41,
     "metadata": {},
     "output_type": "execute_result"
    }
   ],
   "source": [
    "y"
   ]
  },
  {
   "cell_type": "code",
   "execution_count": 42,
   "metadata": {},
   "outputs": [
    {
     "data": {
      "text/plain": [
       "array([58.        , 37.16666667, 48.16666667, 53.33333333, 39.66666667])"
      ]
     },
     "execution_count": 42,
     "metadata": {},
     "output_type": "execute_result"
    }
   ],
   "source": [
    "x"
   ]
  },
  {
   "cell_type": "markdown",
   "metadata": {},
   "source": [
    "### 4. pandas\n"
   ]
  },
  {
   "cell_type": "markdown",
   "metadata": {},
   "source": [
    "excel_exam.xlsx 파일을 이용하여 반별 과목별 평균을 구하고, 반별 과목별로 반별 과목 평균보다 낮은 학생 id를 출력하라.\n",
    "\n",
    "\n",
    "| class | math | english | science |\n",
    "|-------|------|---------|---------|\n",
    "| 1     | 2    | 1       | 3       |\n",
    "| 1     | 1    | 4       | NaN     |\n",
    "| 1     | NaN  | 2       | NaN     |\n",
    "| 2     | 8    | 7       | 6       |\n",
    "| 2     | 7    | 6       | 5       |\n",
    "\n",
    "- 평균보다 높은 학생의 수는 절반일 수도, 그 보다 높거나, 낮을 수 있다."
   ]
  },
  {
   "cell_type": "code",
   "execution_count": 5,
   "metadata": {},
   "outputs": [
    {
     "data": {
      "text/html": [
       "<div>\n",
       "<style scoped>\n",
       "    .dataframe tbody tr th:only-of-type {\n",
       "        vertical-align: middle;\n",
       "    }\n",
       "\n",
       "    .dataframe tbody tr th {\n",
       "        vertical-align: top;\n",
       "    }\n",
       "\n",
       "    .dataframe thead th {\n",
       "        text-align: right;\n",
       "    }\n",
       "</style>\n",
       "<table border=\"1\" class=\"dataframe\">\n",
       "  <thead>\n",
       "    <tr style=\"text-align: right;\">\n",
       "      <th></th>\n",
       "      <th>id</th>\n",
       "      <th>class</th>\n",
       "      <th>math</th>\n",
       "      <th>english</th>\n",
       "      <th>science</th>\n",
       "    </tr>\n",
       "  </thead>\n",
       "  <tbody>\n",
       "    <tr>\n",
       "      <td>0</td>\n",
       "      <td>1</td>\n",
       "      <td>1</td>\n",
       "      <td>50</td>\n",
       "      <td>98</td>\n",
       "      <td>50</td>\n",
       "    </tr>\n",
       "    <tr>\n",
       "      <td>1</td>\n",
       "      <td>2</td>\n",
       "      <td>1</td>\n",
       "      <td>60</td>\n",
       "      <td>97</td>\n",
       "      <td>60</td>\n",
       "    </tr>\n",
       "    <tr>\n",
       "      <td>2</td>\n",
       "      <td>3</td>\n",
       "      <td>1</td>\n",
       "      <td>45</td>\n",
       "      <td>86</td>\n",
       "      <td>78</td>\n",
       "    </tr>\n",
       "    <tr>\n",
       "      <td>3</td>\n",
       "      <td>4</td>\n",
       "      <td>1</td>\n",
       "      <td>30</td>\n",
       "      <td>98</td>\n",
       "      <td>58</td>\n",
       "    </tr>\n",
       "    <tr>\n",
       "      <td>4</td>\n",
       "      <td>5</td>\n",
       "      <td>2</td>\n",
       "      <td>25</td>\n",
       "      <td>80</td>\n",
       "      <td>65</td>\n",
       "    </tr>\n",
       "  </tbody>\n",
       "</table>\n",
       "</div>"
      ],
      "text/plain": [
       "   id  class  math  english  science\n",
       "0   1      1    50       98       50\n",
       "1   2      1    60       97       60\n",
       "2   3      1    45       86       78\n",
       "3   4      1    30       98       58\n",
       "4   5      2    25       80       65"
      ]
     },
     "execution_count": 5,
     "metadata": {},
     "output_type": "execute_result"
    }
   ],
   "source": [
    "import pandas\n",
    "df = pandas.read_excel('excel_exam.xlsx', sep='\\t')\n",
    "df.head()"
   ]
  },
  {
   "cell_type": "code",
   "execution_count": 44,
   "metadata": {},
   "outputs": [
    {
     "data": {
      "text/html": [
       "<div>\n",
       "<style scoped>\n",
       "    .dataframe tbody tr th:only-of-type {\n",
       "        vertical-align: middle;\n",
       "    }\n",
       "\n",
       "    .dataframe tbody tr th {\n",
       "        vertical-align: top;\n",
       "    }\n",
       "\n",
       "    .dataframe thead th {\n",
       "        text-align: right;\n",
       "    }\n",
       "</style>\n",
       "<table border=\"1\" class=\"dataframe\">\n",
       "  <thead>\n",
       "    <tr style=\"text-align: right;\">\n",
       "      <th></th>\n",
       "      <th>math</th>\n",
       "      <th>english</th>\n",
       "      <th>science</th>\n",
       "    </tr>\n",
       "    <tr>\n",
       "      <th>class</th>\n",
       "      <th></th>\n",
       "      <th></th>\n",
       "      <th></th>\n",
       "    </tr>\n",
       "  </thead>\n",
       "  <tbody>\n",
       "    <tr>\n",
       "      <td>1</td>\n",
       "      <td>46.25</td>\n",
       "      <td>94.75</td>\n",
       "      <td>61.50</td>\n",
       "    </tr>\n",
       "    <tr>\n",
       "      <td>2</td>\n",
       "      <td>61.25</td>\n",
       "      <td>84.25</td>\n",
       "      <td>58.25</td>\n",
       "    </tr>\n",
       "    <tr>\n",
       "      <td>3</td>\n",
       "      <td>45.00</td>\n",
       "      <td>86.50</td>\n",
       "      <td>39.25</td>\n",
       "    </tr>\n",
       "    <tr>\n",
       "      <td>4</td>\n",
       "      <td>56.75</td>\n",
       "      <td>84.75</td>\n",
       "      <td>55.00</td>\n",
       "    </tr>\n",
       "    <tr>\n",
       "      <td>5</td>\n",
       "      <td>78.00</td>\n",
       "      <td>74.25</td>\n",
       "      <td>83.25</td>\n",
       "    </tr>\n",
       "  </tbody>\n",
       "</table>\n",
       "</div>"
      ],
      "text/plain": [
       "        math  english  science\n",
       "class                         \n",
       "1      46.25    94.75    61.50\n",
       "2      61.25    84.25    58.25\n",
       "3      45.00    86.50    39.25\n",
       "4      56.75    84.75    55.00\n",
       "5      78.00    74.25    83.25"
      ]
     },
     "execution_count": 44,
     "metadata": {},
     "output_type": "execute_result"
    }
   ],
   "source": [
    "df.iloc[:,1:].groupby('class').mean()"
   ]
  },
  {
   "cell_type": "code",
   "execution_count": 6,
   "metadata": {},
   "outputs": [
    {
     "data": {
      "text/plain": [
       "class\n",
       "1    46.25\n",
       "2    61.25\n",
       "3    45.00\n",
       "4    56.75\n",
       "5    78.00\n",
       "Name: math, dtype: float64"
      ]
     },
     "execution_count": 6,
     "metadata": {},
     "output_type": "execute_result"
    }
   ],
   "source": [
    "math_mean = df.groupby('class')['math'].mean()\n",
    "math_mean"
   ]
  },
  {
   "cell_type": "code",
   "execution_count": 8,
   "metadata": {},
   "outputs": [
    {
     "data": {
      "text/plain": [
       "class\n",
       "1    61.50\n",
       "2    58.25\n",
       "3    39.25\n",
       "4    55.00\n",
       "5    83.25\n",
       "Name: science, dtype: float64"
      ]
     },
     "execution_count": 8,
     "metadata": {},
     "output_type": "execute_result"
    }
   ],
   "source": [
    "sci_mean = df.groupby('class')['science'].mean()\n",
    "sci_mean"
   ]
  },
  {
   "cell_type": "code",
   "execution_count": 20,
   "metadata": {},
   "outputs": [
    {
     "data": {
      "text/plain": [
       "class\n",
       "1    94.75\n",
       "2    84.25\n",
       "3    86.50\n",
       "4    84.75\n",
       "5    74.25\n",
       "Name: english, dtype: float64"
      ]
     },
     "execution_count": 20,
     "metadata": {},
     "output_type": "execute_result"
    }
   ],
   "source": [
    "eng_mean = df.groupby('class')['english'].mean()\n",
    "eng_mean"
   ]
  },
  {
   "cell_type": "code",
   "execution_count": 25,
   "metadata": {},
   "outputs": [
    {
     "name": "stdout",
     "output_type": "stream",
     "text": [
      "2    3\n",
      "3    4\n",
      "Name: id, dtype: int64\n",
      "4    5\n",
      "5    6\n",
      "Name: id, dtype: int64\n",
      "8    9\n",
      "Name: id, dtype: int64\n",
      "12    13\n",
      "13    14\n",
      "Name: id, dtype: int64\n",
      "16    17\n",
      "Name: id, dtype: int64\n"
     ]
    }
   ],
   "source": [
    "for i in range(1,6):\n",
    "    ans = df[(df['class'] == i) & (df.math < math_mean.loc[i])]['id']\n",
    "    print(ans)"
   ]
  },
  {
   "cell_type": "code",
   "execution_count": 22,
   "metadata": {},
   "outputs": [
    {
     "name": "stdout",
     "output_type": "stream",
     "text": [
      "2    3\n",
      "Name: id, dtype: int64\n",
      "4    5\n",
      "7    8\n",
      "Name: id, dtype: int64\n",
      "10    11\n",
      "11    12\n",
      "Name: id, dtype: int64\n",
      "14    15\n",
      "Name: id, dtype: int64\n",
      "16    17\n",
      "18    19\n",
      "Name: id, dtype: int64\n"
     ]
    }
   ],
   "source": [
    "for i in range(1,6):\n",
    "    ans = df[(df['class'] == i) & (df.english < eng_mean.loc[i])]['id']\n",
    "    print(ans)"
   ]
  },
  {
   "cell_type": "code",
   "execution_count": 23,
   "metadata": {},
   "outputs": [
    {
     "name": "stdout",
     "output_type": "stream",
     "text": [
      "0    1\n",
      "1    2\n",
      "3    4\n",
      "Name: id, dtype: int64\n",
      "6    7\n",
      "7    8\n",
      "Name: id, dtype: int64\n",
      "8      9\n",
      "11    12\n",
      "Name: id, dtype: int64\n",
      "13    14\n",
      "Name: id, dtype: int64\n",
      "19    20\n",
      "Name: id, dtype: int64\n"
     ]
    }
   ],
   "source": [
    "for i in range(1,6):\n",
    "    ans = df[(df['class'] == i) & (df.science < sci_mean.loc[i])]['id']\n",
    "    print(ans)"
   ]
  },
  {
   "cell_type": "code",
   "execution_count": null,
   "metadata": {},
   "outputs": [],
   "source": []
  },
  {
   "cell_type": "markdown",
   "metadata": {},
   "source": [
    "### 5. 시각화\n",
    "tips 데이터에서 sex와 time 별로, 음식지불액 대비 팁의 비율을 구하고, 이를 시각화하라."
   ]
  },
  {
   "cell_type": "code",
   "execution_count": null,
   "metadata": {},
   "outputs": [],
   "source": []
  },
  {
   "cell_type": "code",
   "execution_count": null,
   "metadata": {},
   "outputs": [],
   "source": []
  }
 ],
 "metadata": {
  "kernelspec": {
   "display_name": "Python 3",
   "language": "python",
   "name": "python3"
  },
  "language_info": {
   "codemirror_mode": {
    "name": "ipython",
    "version": 3
   },
   "file_extension": ".py",
   "mimetype": "text/x-python",
   "name": "python",
   "nbconvert_exporter": "python",
   "pygments_lexer": "ipython3",
   "version": "3.7.4"
  }
 },
 "nbformat": 4,
 "nbformat_minor": 2
}
