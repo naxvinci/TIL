{
 "cells": [
  {
   "cell_type": "code",
   "execution_count": 1,
   "metadata": {},
   "outputs": [],
   "source": [
    "%matplotlib inline\n",
    "import matplotlib\n",
    "import matplotlib.pyplot as plt\n",
    "import numpy as np"
   ]
  },
  {
   "cell_type": "code",
   "execution_count": 10,
   "metadata": {
    "scrolled": true
   },
   "outputs": [
    {
     "name": "stdout",
     "output_type": "stream",
     "text": [
      " C 드라이브의 볼륨에는 이름이 없습니다.\n",
      " 볼륨 일련 번호: 1A2A-9520\n",
      "\n",
      " C:\\Users\\student 디렉터리\n",
      "\n",
      "2020-02-12  오후 02:45    <DIR>          .\n",
      "2020-02-12  오후 02:45    <DIR>          ..\n",
      "2020-02-12  오전 10:55             9,222 .bash_history\n",
      "2020-01-10  오전 10:17    <DIR>          .conda\n",
      "2019-12-23  오전 09:44    <DIR>          .config\n",
      "2020-02-03  오후 05:17             4,406 .dbshell\n",
      "2019-12-02  오전 10:45    <DIR>          .eclipse\n",
      "2019-12-16  오후 05:12                50 .gitconfig\n",
      "2019-12-23  오전 09:42    <DIR>          .gradle\n",
      "2020-01-07  오전 10:06             2,094 .h2.server.properties\n",
      "2020-01-10  오후 05:27    <DIR>          .idlerc\n",
      "2020-02-12  오후 02:07    <DIR>          .ipynb_checkpoints\n",
      "2020-01-10  오전 10:22    <DIR>          .ipython\n",
      "2020-01-10  오전 11:18    <DIR>          .jupyter\n",
      "2020-02-12  오후 02:39    <DIR>          .matplotlib\n",
      "2019-12-18  오후 05:05                27 .minttyrc\n",
      "2020-01-28  오후 02:48                 0 .mongorc.js\n",
      "2020-01-23  오전 10:03    <DIR>          .p2\n",
      "2019-12-20  오후 03:38    <DIR>          .pylint.d\n",
      "2019-12-23  오전 09:48    <DIR>          .sts4\n",
      "2019-12-02  오전 10:45    <DIR>          .tooling\n",
      "2020-01-08  오후 02:28             2,162 .viminfo\n",
      "2019-12-09  오전 09:26    <DIR>          .vscode\n",
      "2020-01-14  오후 03:52    <DIR>          __pycache__\n",
      "2018-09-16  오후 03:49            22,955 06_02_python.txt\n",
      "2019-08-07  오후 12:40    <DIR>          3D Objects\n",
      "2020-02-12  오후 02:37    <DIR>          Anaconda3\n",
      "2020-01-14  오후 05:23                19 barcode.txt\n",
      "2020-01-07  오전 10:06            16,384 basic.mv.db\n",
      "2019-12-27  오후 05:53            28,672 board.mv.db\n",
      "2020-01-14  오후 03:32               211 Calendar.py\n",
      "2019-11-12  오후 08:06         7,739,904 chromedriver.exe\n",
      "2020-01-14  오후 05:15    <DIR>          com\n",
      "2019-08-07  오후 12:40    <DIR>          Contacts\n",
      "2020-01-15  오후 03:16                53 data.bin\n",
      "2020-02-12  오후 02:01    <DIR>          Desktop\n",
      "2020-02-11  오후 02:17    <DIR>          Documents\n",
      "2020-02-12  오전 11:32    <DIR>          Downloads\n",
      "2020-01-14  오후 04:29    <DIR>          driver\n",
      "2020-01-16  오전 09:26            11,348 email.ipynb\n",
      "2019-08-07  오후 12:40    <DIR>          Favorites\n",
      "2020-01-16  오후 04:24             5,977 ghostdriver.log\n",
      "2020-02-12  오후 01:41            22,845 goog.npz\n",
      "2019-12-17  오전 11:23    <DIR>          home\n",
      "2019-08-07  오후 12:40    <DIR>          Links\n",
      "2020-02-10  오전 09:32    <DIR>          matteishorse\n",
      "2020-02-07  오후 03:48        31,376,107 matteishorse (2).zip\n",
      "2020-02-06  오후 02:37        28,783,789 matteishorse.zip\n",
      "2020-01-14  오후 03:52               169 mod_class.py\n",
      "2019-08-07  오후 12:40    <DIR>          Music\n",
      "2020-01-14  오후 04:08                69 mymod.py\n",
      "2020-02-11  오전 08:56    <DIR>          OneDrive\n",
      "2016-01-25  오전 07:21        18,587,648 phantomjs.exe\n",
      "2020-01-16  오후 04:17    <DIR>          phantomjs-2.1.1-windows\n",
      "2019-08-07  오후 12:40    <DIR>          Pictures\n",
      "2019-12-19  오후 01:18    <DIR>          python\n",
      "2020-01-14  오후 05:23                18 qrcode.txt\n",
      "2019-08-07  오후 12:40    <DIR>          Saved Games\n",
      "2019-08-07  오후 12:40    <DIR>          Searches\n",
      "2020-02-12  오후 02:45           133,782 StatisticalPlots.ipynb\n",
      "2020-01-09  오전 11:01    <DIR>          Tech_hunter\n",
      "2020-01-07  오전 10:07            24,576 TechHunters.mv.db\n",
      "2020-01-07  오후 05:29            32,768 test.mv.db\n",
      "2019-12-26  오후 05:04             4,090 test.trace.db\n",
      "2020-02-11  오전 09:13    <DIR>          TIL\n",
      "2019-08-07  오후 12:40    <DIR>          Videos\n",
      "2020-01-13  오전 09:34            16,808 연습문제01.ipynb\n",
      "2020-01-13  오후 01:32            12,447 연습문제02.ipynb\n",
      "2020-01-13  오후 05:21             8,876 연습문제03.ipynb\n",
      "2020-01-14  오전 11:23            11,147 연습문제04.ipynb\n",
      "2020-01-15  오전 10:31            95,714 연습문제05.ipynb\n",
      "2020-01-15  오전 11:32             1,428 연습문제06.ipynb\n",
      "2020-01-15  오후 05:40             9,217 연습문제07.ipynb\n",
      "2020-01-15  오후 05:30            18,367 연습문제08.ipynb\n",
      "2020-01-20  오전 09:30            13,188 연습문제09.ipynb\n",
      "2020-02-03  오후 03:53           463,741 연습문제10.ipynb\n",
      "2020-01-28  오후 01:49           147,537 연습문제11.ipynb\n",
      "2020-01-28  오후 06:03            11,726 연습문제mongodb.ipynb\n",
      "2020-02-11  오후 05:16             7,843 확률과통계.ipynb\n",
      "              40개 파일          87,627,384 바이트\n",
      "              39개 디렉터리  433,919,107,072 바이트 남음\n"
     ]
    }
   ],
   "source": [
    "%ls"
   ]
  },
  {
   "cell_type": "code",
   "execution_count": 11,
   "metadata": {
    "collapsed": true
   },
   "outputs": [
    {
     "name": "stdout",
     "output_type": "stream",
     "text": [
      "\n",
      "%run:\n",
      " Run the named file inside IPython as a program.\n",
      "\n",
      "Usage::\n",
      "\n",
      "  %run [-n -i -e -G]\n",
      "       [( -t [-N<N>] | -d [-b<N>] | -p [profile options] )]\n",
      "       ( -m mod | file ) [args]\n",
      "\n",
      "Parameters after the filename are passed as command-line arguments to\n",
      "the program (put in sys.argv). Then, control returns to IPython's\n",
      "prompt.\n",
      "\n",
      "This is similar to running at a system prompt ``python file args``,\n",
      "but with the advantage of giving you IPython's tracebacks, and of\n",
      "loading all variables into your interactive namespace for further use\n",
      "(unless -p is used, see below).\n",
      "\n",
      "The file is executed in a namespace initially consisting only of\n",
      "``__name__=='__main__'`` and sys.argv constructed as indicated. It thus\n",
      "sees its environment as if it were being run as a stand-alone program\n",
      "(except for sharing global objects such as previously imported\n",
      "modules). But after execution, the IPython interactive namespace gets\n",
      "updated with all variables defined in the program (except for __name__\n",
      "and sys.argv). This allows for very convenient loading of code for\n",
      "interactive work, while giving each program a 'clean sheet' to run in.\n",
      "\n",
      "Arguments are expanded using shell-like glob match.  Patterns\n",
      "'*', '?', '[seq]' and '[!seq]' can be used.  Additionally,\n",
      "tilde '~' will be expanded into user's home directory.  Unlike\n",
      "real shells, quotation does not suppress expansions.  Use\n",
      "*two* back slashes (e.g. ``\\\\*``) to suppress expansions.\n",
      "To completely disable these expansions, you can use -G flag.\n",
      "\n",
      "On Windows systems, the use of single quotes `'` when specifying \n",
      "a file is not supported. Use double quotes `\"`.\n",
      "\n",
      "Options:\n",
      "\n",
      "-n\n",
      "  __name__ is NOT set to '__main__', but to the running file's name\n",
      "  without extension (as python does under import).  This allows running\n",
      "  scripts and reloading the definitions in them without calling code\n",
      "  protected by an ``if __name__ == \"__main__\"`` clause.\n",
      "\n",
      "-i\n",
      "  run the file in IPython's namespace instead of an empty one. This\n",
      "  is useful if you are experimenting with code written in a text editor\n",
      "  which depends on variables defined interactively.\n",
      "\n",
      "-e\n",
      "  ignore sys.exit() calls or SystemExit exceptions in the script\n",
      "  being run.  This is particularly useful if IPython is being used to\n",
      "  run unittests, which always exit with a sys.exit() call.  In such\n",
      "  cases you are interested in the output of the test results, not in\n",
      "  seeing a traceback of the unittest module.\n",
      "\n",
      "-t\n",
      "  print timing information at the end of the run.  IPython will give\n",
      "  you an estimated CPU time consumption for your script, which under\n",
      "  Unix uses the resource module to avoid the wraparound problems of\n",
      "  time.clock().  Under Unix, an estimate of time spent on system tasks\n",
      "  is also given (for Windows platforms this is reported as 0.0).\n",
      "\n",
      "If -t is given, an additional ``-N<N>`` option can be given, where <N>\n",
      "must be an integer indicating how many times you want the script to\n",
      "run.  The final timing report will include total and per run results.\n",
      "\n",
      "For example (testing the script uniq_stable.py)::\n",
      "\n",
      "    In [1]: run -t uniq_stable\n",
      "\n",
      "    IPython CPU timings (estimated):\n",
      "      User  :    0.19597 s.\n",
      "      System:        0.0 s.\n",
      "\n",
      "    In [2]: run -t -N5 uniq_stable\n",
      "\n",
      "    IPython CPU timings (estimated):\n",
      "    Total runs performed: 5\n",
      "      Times :      Total       Per run\n",
      "      User  :   0.910862 s,  0.1821724 s.\n",
      "      System:        0.0 s,        0.0 s.\n",
      "\n",
      "-d\n",
      "  run your program under the control of pdb, the Python debugger.\n",
      "  This allows you to execute your program step by step, watch variables,\n",
      "  etc.  Internally, what IPython does is similar to calling::\n",
      "\n",
      "      pdb.run('execfile(\"YOURFILENAME\")')\n",
      "\n",
      "  with a breakpoint set on line 1 of your file.  You can change the line\n",
      "  number for this automatic breakpoint to be <N> by using the -bN option\n",
      "  (where N must be an integer). For example::\n",
      "\n",
      "      %run -d -b40 myscript\n",
      "\n",
      "  will set the first breakpoint at line 40 in myscript.py.  Note that\n",
      "  the first breakpoint must be set on a line which actually does\n",
      "  something (not a comment or docstring) for it to stop execution.\n",
      "\n",
      "  Or you can specify a breakpoint in a different file::\n",
      "\n",
      "      %run -d -b myotherfile.py:20 myscript\n",
      "\n",
      "  When the pdb debugger starts, you will see a (Pdb) prompt.  You must\n",
      "  first enter 'c' (without quotes) to start execution up to the first\n",
      "  breakpoint.\n",
      "\n",
      "  Entering 'help' gives information about the use of the debugger.  You\n",
      "  can easily see pdb's full documentation with \"import pdb;pdb.help()\"\n",
      "  at a prompt.\n",
      "\n",
      "-p\n",
      "  run program under the control of the Python profiler module (which\n",
      "  prints a detailed report of execution times, function calls, etc).\n",
      "\n",
      "  You can pass other options after -p which affect the behavior of the\n",
      "  profiler itself. See the docs for %prun for details.\n",
      "\n",
      "  In this mode, the program's variables do NOT propagate back to the\n",
      "  IPython interactive namespace (because they remain in the namespace\n",
      "  where the profiler executes them).\n",
      "\n",
      "  Internally this triggers a call to %prun, see its documentation for\n",
      "  details on the options available specifically for profiling.\n",
      "\n",
      "There is one special usage for which the text above doesn't apply:\n",
      "if the filename ends with .ipy[nb], the file is run as ipython script,\n",
      "just as if the commands were written on IPython prompt.\n",
      "\n",
      "-m\n",
      "  specify module name to load instead of script path. Similar to\n",
      "  the -m option for the python interpreter. Use this option last if you\n",
      "  want to combine with other %run options. Unlike the python interpreter\n",
      "  only source modules are allowed no .pyc or .pyo files.\n",
      "  For example::\n",
      "\n",
      "      %run -m example\n",
      "\n",
      "  will run the example module.\n",
      "\n",
      "-G\n",
      "  disable shell-like glob expansion of arguments.\n"
     ]
    },
    {
     "name": "stderr",
     "output_type": "stream",
     "text": [
      "C:\\Users\\student\\Anaconda3\\lib\\site-packages\\IPython\\core\\magics\\execution.py:699: UserWarning: you must provide at least a filename.\n",
      "  warn('you must provide at least a filename.')\n"
     ]
    }
   ],
   "source": [
    "%run # == python xxx.py 과 같은 의미 "
   ]
  },
  {
   "cell_type": "markdown",
   "metadata": {},
   "source": [
    "### 1. histogram\n",
    "#### 1) simple histogram"
   ]
  },
  {
   "cell_type": "code",
   "execution_count": 18,
   "metadata": {
    "scrolled": true
   },
   "outputs": [
    {
     "data": {
      "text/plain": [
       "(array([3.0000e+00, 1.4000e+01, 6.9000e+01, 2.7700e+02, 9.6900e+02,\n",
       "        2.5790e+03, 5.8010e+03, 1.0379e+04, 1.5122e+04, 1.7920e+04,\n",
       "        1.7298e+04, 1.3536e+04, 8.6630e+03, 4.6080e+03, 1.8750e+03,\n",
       "        6.4100e+02, 2.0000e+02, 3.7000e+01, 7.0000e+00, 2.0000e+00]),\n",
       " array([ 0.15026293,  0.64387908,  1.13749522,  1.63111136,  2.12472751,\n",
       "         2.61834365,  3.11195979,  3.60557594,  4.09919208,  4.59280822,\n",
       "         5.08642437,  5.58004051,  6.07365665,  6.5672728 ,  7.06088894,\n",
       "         7.55450508,  8.04812123,  8.54173737,  9.03535351,  9.52896966,\n",
       "        10.0225858 ]),\n",
       " <a list of 20 Patch objects>)"
      ]
     },
     "execution_count": 18,
     "metadata": {},
     "output_type": "execute_result"
    },
    {
     "data": {
      "image/png": "[encoded data removed]",
      "text/plain": [
       "<Figure size 432x288 with 2 Axes>"
      ]
     },
     "metadata": {
      "needs_background": "light"
     },
     "output_type": "display_data"
    }
   ],
   "source": [
    "# Fixing random state for reproducibility\n",
    "np.random.seed(19680801)\n",
    "\n",
    "N_points = 100000\n",
    "n_bins = 20 # 20개의 구간으로 나눈다는 의미\n",
    "\n",
    "# Generate a normal distribution, center at x=0 and y=5\n",
    "x = np.random.randn(N_points) # randn은 약간 broad한 데이터 범위를 만들어주겠다...?\n",
    "y = .4 * x + np.random.randn(100000) + 5 # 우상향 그래프가 만들어진다\n",
    "\n",
    "fig, axs = plt.subplots(1, 2, sharey=True, tight_layout=True)\n",
    "# fig가 캔버스의 역할/ 1행 2열이라는 의미/ 내가 그릴 그래프들이 동등한 기준으로 그려지게 하기 위해 sharey\n",
    "#sharey를 쓰지 않으면 그래프가 제각각 맞춰서 그려진다\n",
    "\n",
    "# We can set the number of bins with the `bins` kwarg\n",
    "resHist = axs[0].hist(x, bins=n_bins)\n",
    "axs[1].hist(y, bins=n_bins)"
   ]
  },
  {
   "cell_type": "code",
   "execution_count": 19,
   "metadata": {},
   "outputs": [],
   "source": [
    "k = y - 5 -.4*x"
   ]
  },
  {
   "cell_type": "code",
   "execution_count": 20,
   "metadata": {},
   "outputs": [
    {
     "name": "stdout",
     "output_type": "stream",
     "text": [
      "[-1.32239123 -2.05311878  0.79788146  1.89210177  0.15916147 -0.43656953\n",
      " -0.60534154  1.70954484  1.35873182  0.55952118]\n",
      "[ 1.04930431  0.86609917  0.5511346   1.72807779 -0.64928812 -0.47841958\n",
      "  1.07788511  0.96881033 -0.80934479 -1.2373891 ]\n"
     ]
    }
   ],
   "source": [
    "print(k[:10])\n",
    "print(x[:10])"
   ]
  },
  {
   "cell_type": "code",
   "execution_count": 21,
   "metadata": {},
   "outputs": [],
   "source": [
    "def avrg(x):\n",
    "    N = len(x)\n",
    "    return x.sum() /N\n",
    "\n",
    "def var(x):\n",
    "    N = len(x)\n",
    "    return np.sum((x - avrg(x))**2) / (N-1)"
   ]
  },
  {
   "cell_type": "code",
   "execution_count": 22,
   "metadata": {},
   "outputs": [
    {
     "name": "stdout",
     "output_type": "stream",
     "text": [
      "x의 평균은 0.0039\n",
      "y의 평균은 5.0028\n",
      "k의 평균은 0.0012\n"
     ]
    }
   ],
   "source": [
    "barx = avrg(x)\n",
    "print(\"x의 평균은 %5.4f\" %barx)\n",
    "bary = avrg(y)\n",
    "print(\"y의 평균은 %5.4f\" %bary)\n",
    "bark = avrg(k)\n",
    "print(\"k의 평균은 %5.4f\" %bark)"
   ]
  },
  {
   "cell_type": "code",
   "execution_count": 23,
   "metadata": {},
   "outputs": [
    {
     "name": "stdout",
     "output_type": "stream",
     "text": [
      "x의 분산은 1.0056\n",
      "y의 분산은 1.1586\n",
      "k의 분산은 1.0004\n"
     ]
    }
   ],
   "source": [
    "varx = var(x)\n",
    "print(\"x의 분산은 %5.4f\" %varx)\n",
    "vary = var(y)\n",
    "print(\"y의 분산은 %5.4f\" %vary)\n",
    "vark = var(k)\n",
    "print(\"k의 분산은 %5.4f\" %vark)"
   ]
  },
  {
   "cell_type": "code",
   "execution_count": 24,
   "metadata": {},
   "outputs": [
    {
     "data": {
      "text/plain": [
       "1.161293218815363"
      ]
     },
     "execution_count": 24,
     "metadata": {},
     "output_type": "execute_result"
    }
   ],
   "source": [
    ".4**2 * varx + vark"
   ]
  },
  {
   "cell_type": "code",
   "execution_count": 31,
   "metadata": {},
   "outputs": [],
   "source": [
    "# 상관계수 구하기\n",
    "def corr(x, y):\n",
    "    N = len(x)\n",
    "    return np.sum((x-avrg(x))*(y-avrg(y))) / (N-1)"
   ]
  },
  {
   "cell_type": "code",
   "execution_count": 32,
   "metadata": {},
   "outputs": [
    {
     "data": {
      "text/plain": [
       "-0.00333477626419185"
      ]
     },
     "execution_count": 32,
     "metadata": {},
     "output_type": "execute_result"
    }
   ],
   "source": [
    "corrxk = corr(x, k)\n",
    "corrxk"
   ]
  },
  {
   "cell_type": "code",
   "execution_count": 33,
   "metadata": {},
   "outputs": [
    {
     "data": {
      "text/plain": [
       "1.1546236662869793"
      ]
     },
     "execution_count": 33,
     "metadata": {},
     "output_type": "execute_result"
    }
   ],
   "source": [
    ".4**2 * varx + vark + 2*corrxk"
   ]
  },
  {
   "cell_type": "code",
   "execution_count": 34,
   "metadata": {},
   "outputs": [
    {
     "data": {
      "text/plain": [
       "1.1586253978040095"
      ]
     },
     "execution_count": 34,
     "metadata": {},
     "output_type": "execute_result"
    }
   ],
   "source": [
    "vary"
   ]
  },
  {
   "cell_type": "code",
   "execution_count": 35,
   "metadata": {},
   "outputs": [
    {
     "data": {
      "text/plain": [
       "1.1586138115500313"
      ]
     },
     "execution_count": 35,
     "metadata": {},
     "output_type": "execute_result"
    }
   ],
   "source": [
    "y.var()"
   ]
  },
  {
   "cell_type": "code",
   "execution_count": null,
   "metadata": {},
   "outputs": [],
   "source": []
  },
  {
   "cell_type": "code",
   "execution_count": null,
   "metadata": {},
   "outputs": [],
   "source": []
  },
  {
   "cell_type": "code",
   "execution_count": null,
   "metadata": {},
   "outputs": [],
   "source": []
  },
  {
   "cell_type": "code",
   "execution_count": null,
   "metadata": {},
   "outputs": [],
   "source": []
  },
  {
   "cell_type": "markdown",
   "metadata": {},
   "source": [
    " "
   ]
  },
  {
   "cell_type": "markdown",
   "metadata": {},
   "source": [
    "resHist에 어떤 내용이 있는지 찾아보고 그 의미를 설명하라.\n",
    "\n",
    "- 분산은 x의 제곱의 스케일을 가진다"
   ]
  },
  {
   "cell_type": "markdown",
   "metadata": {},
   "source": [
    "#### 2) histogram with density\n"
   ]
  },
  {
   "cell_type": "code",
   "execution_count": 37,
   "metadata": {},
   "outputs": [
    {
     "data": {
      "image/png": "[encoded data removed]",
      "text/plain": [
       "<Figure size 432x288 with 1 Axes>"
      ]
     },
     "metadata": {
      "needs_background": "light"
     },
     "output_type": "display_data"
    }
   ],
   "source": [
    "np.random.seed(19680801)\n",
    "\n",
    "# example data\n",
    "mu = 100  # mean of distribution\n",
    "sigma = 15  # standard deviation of distribution\n",
    "x = mu + sigma * np.random.randn(437)\n",
    "\n",
    "num_bins = 50\n",
    "\n",
    "fig, ax = plt.subplots()\n",
    "\n",
    "# the histogram of the data\n",
    "n, bins, patches = ax.hist(x, num_bins, density=1)\n",
    "\n",
    "# add a 'best fit' line\n",
    "y = ((1 / (np.sqrt(2 * np.pi) * sigma)) *\n",
    "     np.exp(-0.5 * (1 / sigma * (bins - mu))**2))\n",
    "ax.plot(bins, y, '--') # scatterplot... 점으로 찍는거임\n",
    "ax.set_xlabel('Smarts')\n",
    "ax.set_ylabel('Probability density')\n",
    "ax.set_title(r'Histogram of IQ: $\\mu=100$, $\\sigma=15$')\n",
    "\n",
    "# Tweak spacing to prevent clipping of ylabel\n",
    "fig.tight_layout()\n",
    "plt.show()"
   ]
  },
  {
   "cell_type": "markdown",
   "metadata": {},
   "source": [
    "### 2. boxplot"
   ]
  },
  {
   "cell_type": "code",
   "execution_count": 38,
   "metadata": {},
   "outputs": [
    {
     "data": {
      "image/png": "[encoded data removed]",
      "text/plain": [
       "<Figure size 432x288 with 1 Axes>"
      ]
     },
     "metadata": {
      "needs_background": "light"
     },
     "output_type": "display_data"
    }
   ],
   "source": [
    "# Fixing random state for reproducibility\n",
    "np.random.seed(19680801)\n",
    "\n",
    "# fake up some data\n",
    "spread = np.random.rand(50) * 100\n",
    "center = np.ones(25) * 50\n",
    "flier_high = np.random.rand(10) * 100 + 100\n",
    "flier_low = np.random.rand(10) * -100\n",
    "data = np.concatenate((spread, center, flier_high, flier_low)) # 95개의 1차원 배열이 된다\n",
    "\n",
    "fig1, ax1 = plt.subplots()\n",
    "ax1.set_title('Basic Plot')\n",
    "result = ax1.boxplot(data)"
   ]
  },
  {
   "cell_type": "code",
   "execution_count": 39,
   "metadata": {},
   "outputs": [
    {
     "data": {
      "text/plain": [
       "{'whiskers': [<matplotlib.lines.Line2D at 0x1f5c695ed08>,\n",
       "  <matplotlib.lines.Line2D at 0x1f5c6792108>],\n",
       " 'caps': [<matplotlib.lines.Line2D at 0x1f5c6793748>,\n",
       "  <matplotlib.lines.Line2D at 0x1f5c6796c88>],\n",
       " 'boxes': [<matplotlib.lines.Line2D at 0x1f5c4acc348>],\n",
       " 'medians': [<matplotlib.lines.Line2D at 0x1f5c6790ec8>],\n",
       " 'fliers': [<matplotlib.lines.Line2D at 0x1f5c698cb08>],\n",
       " 'means': []}"
      ]
     },
     "execution_count": 39,
     "metadata": {},
     "output_type": "execute_result"
    }
   ],
   "source": [
    "result # dictionary 형태다"
   ]
  },
  {
   "cell_type": "code",
   "execution_count": 40,
   "metadata": {},
   "outputs": [
    {
     "data": {
      "text/plain": [
       "[<matplotlib.lines.Line2D at 0x1f5c4acc348>]"
      ]
     },
     "execution_count": 40,
     "metadata": {},
     "output_type": "execute_result"
    }
   ],
   "source": [
    "box = result['boxes']\n",
    "box # 라인으로 만들어진 박스"
   ]
  },
  {
   "cell_type": "code",
   "execution_count": 41,
   "metadata": {},
   "outputs": [
    {
     "data": {
      "text/plain": [
       "1"
      ]
     },
     "execution_count": 41,
     "metadata": {},
     "output_type": "execute_result"
    }
   ],
   "source": [
    "len(box)"
   ]
  },
  {
   "cell_type": "code",
   "execution_count": 44,
   "metadata": {},
   "outputs": [
    {
     "data": {
      "text/plain": [
       "<matplotlib.lines.Line2D at 0x1f5c4acc348>"
      ]
     },
     "execution_count": 44,
     "metadata": {},
     "output_type": "execute_result"
    }
   ],
   "source": [
    "bx = box[0]\n",
    "bx"
   ]
  },
  {
   "cell_type": "code",
   "execution_count": 46,
   "metadata": {},
   "outputs": [
    {
     "data": {
      "text/plain": [
       "array([[ 0.925     , 34.20342983],\n",
       "       [ 1.075     , 34.20342983],\n",
       "       [ 1.075     , 72.07506966],\n",
       "       [ 0.925     , 72.07506966],\n",
       "       [ 0.925     , 34.20342983]])"
      ]
     },
     "execution_count": 46,
     "metadata": {},
     "output_type": "execute_result"
    }
   ],
   "source": [
    "bx.get_xydata()"
   ]
  },
  {
   "cell_type": "code",
   "execution_count": 47,
   "metadata": {},
   "outputs": [
    {
     "data": {
      "text/plain": [
       "[<matplotlib.lines.Line2D at 0x1f5c6790ec8>]"
      ]
     },
     "execution_count": 47,
     "metadata": {},
     "output_type": "execute_result"
    }
   ],
   "source": [
    "medians = result['medians']\n",
    "medians"
   ]
  },
  {
   "cell_type": "code",
   "execution_count": 49,
   "metadata": {},
   "outputs": [
    {
     "data": {
      "text/plain": [
       "array([[ 0.925, 50.   ],\n",
       "       [ 1.075, 50.   ]])"
      ]
     },
     "execution_count": 49,
     "metadata": {},
     "output_type": "execute_result"
    }
   ],
   "source": [
    "medians[0].get_xydata()"
   ]
  },
  {
   "cell_type": "code",
   "execution_count": 51,
   "metadata": {},
   "outputs": [],
   "source": [
    "med = medians[0]"
   ]
  },
  {
   "cell_type": "code",
   "execution_count": 52,
   "metadata": {},
   "outputs": [
    {
     "data": {
      "text/plain": [
       "array([50., 50.])"
      ]
     },
     "execution_count": 52,
     "metadata": {},
     "output_type": "execute_result"
    }
   ],
   "source": [
    "med.get_ydata() # 메디안이 50이라는 의미"
   ]
  },
  {
   "cell_type": "code",
   "execution_count": null,
   "metadata": {},
   "outputs": [],
   "source": []
  },
  {
   "cell_type": "code",
   "execution_count": null,
   "metadata": {},
   "outputs": [],
   "source": []
  },
  {
   "cell_type": "code",
   "execution_count": null,
   "metadata": {},
   "outputs": [],
   "source": []
  },
  {
   "cell_type": "code",
   "execution_count": null,
   "metadata": {},
   "outputs": [],
   "source": []
  }
 ],
 "metadata": {
  "kernelspec": {
   "display_name": "Python 3",
   "language": "python",
   "name": "python3"
  },
  "language_info": {
   "codemirror_mode": {
    "name": "ipython",
    "version": 3
   },
   "file_extension": ".py",
   "mimetype": "text/x-python",
   "name": "python",
   "nbconvert_exporter": "python",
   "pygments_lexer": "ipython3",
   "version": "3.7.4"
  }
 },
 "nbformat": 4,
 "nbformat_minor": 2
}
